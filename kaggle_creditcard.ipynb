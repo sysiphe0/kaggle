{
  "nbformat": 4,
  "nbformat_minor": 0,
  "metadata": {
    "colab": {
      "name": "kaggle_creditcard.ipynb",
      "provenance": [],
      "authorship_tag": "ABX9TyO++RE4+AhE8mXHZeVYlLJ2",
      "include_colab_link": true
    },
    "kernelspec": {
      "name": "python3",
      "display_name": "Python 3"
    }
  },
  "cells": [
    {
      "cell_type": "markdown",
      "metadata": {
        "id": "view-in-github",
        "colab_type": "text"
      },
      "source": [
        "<a href=\"https://colab.research.google.com/github/sysiphe0/kaggle/blob/main/kaggle_creditcard.ipynb\" target=\"_parent\"><img src=\"https://colab.research.google.com/assets/colab-badge.svg\" alt=\"Open In Colab\"/></a>"
      ]
    },
    {
      "cell_type": "code",
      "metadata": {
        "id": "KIjWH-UXhjo8"
      },
      "source": [
        "\n",
        "import numpy as np\n",
        "import pandas as pd\n",
        "\n",
        "import warnings\n",
        "warnings.filterwarnings(\"ignore\")\n",
        "import seaborn as sns\n",
        "sns.set(style=\"white\", color_codes=True)\n",
        "import matplotlib.pyplot as plt\n",
        "import matplotlib\n",
        "%matplotlib inline\n",
        "from google.colab import drive"
      ],
      "execution_count": 14,
      "outputs": []
    },
    {
      "cell_type": "code",
      "metadata": {
        "id": "dq0oyqcbkJmh"
      },
      "source": [
        "def chk_dup_features(df):\n",
        "  remove = []\n",
        "  c = df.columns\n",
        "  for i in range(len(c)-1):\n",
        "    v = df[c[i]].values\n",
        "    for j in range(i+1, len(c)):\n",
        "      if np.array_equal(v, df[c[j]].values):\n",
        "        remove.append(c[j])\n",
        "  return list(set(remove))"
      ],
      "execution_count": 3,
      "outputs": []
    },
    {
      "cell_type": "code",
      "metadata": {
        "id": "vp2vHeuUkM1-"
      },
      "source": [
        "def chk_constant_features(df):\n",
        "  remove = []\n",
        "  c = df.columns\n",
        "  for i in range(len(c)-1):\n",
        "    if df[c[i]].std() == 0:\n",
        "      remove.append(c[i])\n",
        "  return remove"
      ],
      "execution_count": 4,
      "outputs": []
    },
    {
      "cell_type": "code",
      "metadata": {
        "id": "xw4yw-73kPAd"
      },
      "source": [
        "def chk_correlation(df, threshold):\n",
        "  col_corr = set()\n",
        "  corr_matrix = df.corr()\n",
        "  for i in range(len(corr_matrix.columns)):\n",
        "    for j in range(i):\n",
        "      if abs(corr_matrix.iloc[i,j]) > threshold:\n",
        "        colname = corr_matrix.columns[i]\n",
        "        col_corr.add(colname)\n",
        "  return col_corr"
      ],
      "execution_count": 5,
      "outputs": []
    },
    {
      "cell_type": "code",
      "metadata": {
        "colab": {
          "base_uri": "https://localhost:8080/",
          "height": 0
        },
        "id": "xnugAd2qkddc",
        "outputId": "e25a3f5b-e20e-4a98-9126-c63bfcf97361"
      },
      "source": [
        "drive.mount('/content/drive')"
      ],
      "execution_count": 6,
      "outputs": [
        {
          "output_type": "stream",
          "text": [
            "Mounted at /content/drive\n"
          ],
          "name": "stdout"
        }
      ]
    },
    {
      "cell_type": "code",
      "metadata": {
        "id": "x9ZfBc0_keSU"
      },
      "source": [
        "card_df = pd.read_csv(\"/content/drive/My Drive/creditcard.csv\")"
      ],
      "execution_count": 7,
      "outputs": []
    },
    {
      "cell_type": "code",
      "metadata": {
        "colab": {
          "base_uri": "https://localhost:8080/",
          "height": 162
        },
        "id": "QwQ-JE4BmsJP",
        "outputId": "2a10a5be-2b5a-4854-b18a-19efc5715ead"
      },
      "source": [
        "card_df.head(3)"
      ],
      "execution_count": 8,
      "outputs": [
        {
          "output_type": "execute_result",
          "data": {
            "text/html": [
              "<div>\n",
              "<style scoped>\n",
              "    .dataframe tbody tr th:only-of-type {\n",
              "        vertical-align: middle;\n",
              "    }\n",
              "\n",
              "    .dataframe tbody tr th {\n",
              "        vertical-align: top;\n",
              "    }\n",
              "\n",
              "    .dataframe thead th {\n",
              "        text-align: right;\n",
              "    }\n",
              "</style>\n",
              "<table border=\"1\" class=\"dataframe\">\n",
              "  <thead>\n",
              "    <tr style=\"text-align: right;\">\n",
              "      <th></th>\n",
              "      <th>Time</th>\n",
              "      <th>V1</th>\n",
              "      <th>V2</th>\n",
              "      <th>V3</th>\n",
              "      <th>V4</th>\n",
              "      <th>V5</th>\n",
              "      <th>V6</th>\n",
              "      <th>V7</th>\n",
              "      <th>V8</th>\n",
              "      <th>V9</th>\n",
              "      <th>V10</th>\n",
              "      <th>V11</th>\n",
              "      <th>V12</th>\n",
              "      <th>V13</th>\n",
              "      <th>V14</th>\n",
              "      <th>V15</th>\n",
              "      <th>V16</th>\n",
              "      <th>V17</th>\n",
              "      <th>V18</th>\n",
              "      <th>V19</th>\n",
              "      <th>V20</th>\n",
              "      <th>V21</th>\n",
              "      <th>V22</th>\n",
              "      <th>V23</th>\n",
              "      <th>V24</th>\n",
              "      <th>V25</th>\n",
              "      <th>V26</th>\n",
              "      <th>V27</th>\n",
              "      <th>V28</th>\n",
              "      <th>Amount</th>\n",
              "      <th>Class</th>\n",
              "    </tr>\n",
              "  </thead>\n",
              "  <tbody>\n",
              "    <tr>\n",
              "      <th>0</th>\n",
              "      <td>0.0</td>\n",
              "      <td>-1.359807</td>\n",
              "      <td>-0.072781</td>\n",
              "      <td>2.536347</td>\n",
              "      <td>1.378155</td>\n",
              "      <td>-0.338321</td>\n",
              "      <td>0.462388</td>\n",
              "      <td>0.239599</td>\n",
              "      <td>0.098698</td>\n",
              "      <td>0.363787</td>\n",
              "      <td>0.090794</td>\n",
              "      <td>-0.551600</td>\n",
              "      <td>-0.617801</td>\n",
              "      <td>-0.991390</td>\n",
              "      <td>-0.311169</td>\n",
              "      <td>1.468177</td>\n",
              "      <td>-0.470401</td>\n",
              "      <td>0.207971</td>\n",
              "      <td>0.025791</td>\n",
              "      <td>0.403993</td>\n",
              "      <td>0.251412</td>\n",
              "      <td>-0.018307</td>\n",
              "      <td>0.277838</td>\n",
              "      <td>-0.110474</td>\n",
              "      <td>0.066928</td>\n",
              "      <td>0.128539</td>\n",
              "      <td>-0.189115</td>\n",
              "      <td>0.133558</td>\n",
              "      <td>-0.021053</td>\n",
              "      <td>149.62</td>\n",
              "      <td>0</td>\n",
              "    </tr>\n",
              "    <tr>\n",
              "      <th>1</th>\n",
              "      <td>0.0</td>\n",
              "      <td>1.191857</td>\n",
              "      <td>0.266151</td>\n",
              "      <td>0.166480</td>\n",
              "      <td>0.448154</td>\n",
              "      <td>0.060018</td>\n",
              "      <td>-0.082361</td>\n",
              "      <td>-0.078803</td>\n",
              "      <td>0.085102</td>\n",
              "      <td>-0.255425</td>\n",
              "      <td>-0.166974</td>\n",
              "      <td>1.612727</td>\n",
              "      <td>1.065235</td>\n",
              "      <td>0.489095</td>\n",
              "      <td>-0.143772</td>\n",
              "      <td>0.635558</td>\n",
              "      <td>0.463917</td>\n",
              "      <td>-0.114805</td>\n",
              "      <td>-0.183361</td>\n",
              "      <td>-0.145783</td>\n",
              "      <td>-0.069083</td>\n",
              "      <td>-0.225775</td>\n",
              "      <td>-0.638672</td>\n",
              "      <td>0.101288</td>\n",
              "      <td>-0.339846</td>\n",
              "      <td>0.167170</td>\n",
              "      <td>0.125895</td>\n",
              "      <td>-0.008983</td>\n",
              "      <td>0.014724</td>\n",
              "      <td>2.69</td>\n",
              "      <td>0</td>\n",
              "    </tr>\n",
              "    <tr>\n",
              "      <th>2</th>\n",
              "      <td>1.0</td>\n",
              "      <td>-1.358354</td>\n",
              "      <td>-1.340163</td>\n",
              "      <td>1.773209</td>\n",
              "      <td>0.379780</td>\n",
              "      <td>-0.503198</td>\n",
              "      <td>1.800499</td>\n",
              "      <td>0.791461</td>\n",
              "      <td>0.247676</td>\n",
              "      <td>-1.514654</td>\n",
              "      <td>0.207643</td>\n",
              "      <td>0.624501</td>\n",
              "      <td>0.066084</td>\n",
              "      <td>0.717293</td>\n",
              "      <td>-0.165946</td>\n",
              "      <td>2.345865</td>\n",
              "      <td>-2.890083</td>\n",
              "      <td>1.109969</td>\n",
              "      <td>-0.121359</td>\n",
              "      <td>-2.261857</td>\n",
              "      <td>0.524980</td>\n",
              "      <td>0.247998</td>\n",
              "      <td>0.771679</td>\n",
              "      <td>0.909412</td>\n",
              "      <td>-0.689281</td>\n",
              "      <td>-0.327642</td>\n",
              "      <td>-0.139097</td>\n",
              "      <td>-0.055353</td>\n",
              "      <td>-0.059752</td>\n",
              "      <td>378.66</td>\n",
              "      <td>0</td>\n",
              "    </tr>\n",
              "  </tbody>\n",
              "</table>\n",
              "</div>"
            ],
            "text/plain": [
              "   Time        V1        V2        V3  ...       V27       V28  Amount  Class\n",
              "0   0.0 -1.359807 -0.072781  2.536347  ...  0.133558 -0.021053  149.62      0\n",
              "1   0.0  1.191857  0.266151  0.166480  ... -0.008983  0.014724    2.69      0\n",
              "2   1.0 -1.358354 -1.340163  1.773209  ... -0.055353 -0.059752  378.66      0\n",
              "\n",
              "[3 rows x 31 columns]"
            ]
          },
          "metadata": {
            "tags": []
          },
          "execution_count": 8
        }
      ]
    },
    {
      "cell_type": "code",
      "metadata": {
        "colab": {
          "base_uri": "https://localhost:8080/",
          "height": 0
        },
        "id": "RdLdvf06mu-s",
        "outputId": "dd9f3907-d277-4f41-807e-d55d8587c98e"
      },
      "source": [
        "card_df.info()"
      ],
      "execution_count": 9,
      "outputs": [
        {
          "output_type": "stream",
          "text": [
            "<class 'pandas.core.frame.DataFrame'>\n",
            "RangeIndex: 284807 entries, 0 to 284806\n",
            "Data columns (total 31 columns):\n",
            " #   Column  Non-Null Count   Dtype  \n",
            "---  ------  --------------   -----  \n",
            " 0   Time    284807 non-null  float64\n",
            " 1   V1      284807 non-null  float64\n",
            " 2   V2      284807 non-null  float64\n",
            " 3   V3      284807 non-null  float64\n",
            " 4   V4      284807 non-null  float64\n",
            " 5   V5      284807 non-null  float64\n",
            " 6   V6      284807 non-null  float64\n",
            " 7   V7      284807 non-null  float64\n",
            " 8   V8      284807 non-null  float64\n",
            " 9   V9      284807 non-null  float64\n",
            " 10  V10     284807 non-null  float64\n",
            " 11  V11     284807 non-null  float64\n",
            " 12  V12     284807 non-null  float64\n",
            " 13  V13     284807 non-null  float64\n",
            " 14  V14     284807 non-null  float64\n",
            " 15  V15     284807 non-null  float64\n",
            " 16  V16     284807 non-null  float64\n",
            " 17  V17     284807 non-null  float64\n",
            " 18  V18     284807 non-null  float64\n",
            " 19  V19     284807 non-null  float64\n",
            " 20  V20     284807 non-null  float64\n",
            " 21  V21     284807 non-null  float64\n",
            " 22  V22     284807 non-null  float64\n",
            " 23  V23     284807 non-null  float64\n",
            " 24  V24     284807 non-null  float64\n",
            " 25  V25     284807 non-null  float64\n",
            " 26  V26     284807 non-null  float64\n",
            " 27  V27     284807 non-null  float64\n",
            " 28  V28     284807 non-null  float64\n",
            " 29  Amount  284807 non-null  float64\n",
            " 30  Class   284807 non-null  int64  \n",
            "dtypes: float64(30), int64(1)\n",
            "memory usage: 67.4 MB\n"
          ],
          "name": "stdout"
        }
      ]
    },
    {
      "cell_type": "code",
      "metadata": {
        "id": "eaPCWvHhnr0q"
      },
      "source": [
        "from sklearn.model_selection import train_test_split\n",
        "from sklearn.metrics import accuracy_score, precision_score, recall_score, confusion_matrix, precision_recall_curve, f1_score, roc_auc_score"
      ],
      "execution_count": 10,
      "outputs": []
    },
    {
      "cell_type": "code",
      "metadata": {
        "id": "dTdok-8bm5Lk"
      },
      "source": [
        "def get_preprocessed_df_old(df=None):\n",
        "  df_copy = df.copy()\n",
        "  df_copy.drop('Time', axis=1, inplace=True)\n",
        "  return df_copy"
      ],
      "execution_count": 11,
      "outputs": []
    },
    {
      "cell_type": "code",
      "metadata": {
        "id": "OzVGdHJU3wGD"
      },
      "source": [
        "def get_preprocessed_df_old2(df=None):\n",
        "  df_copy = df.copy()\n",
        "  amount_n = np.log1p(df_copy['Amount'])\n",
        "  df_copy.insert(0, 'Amount_Scaled', amount_n)\n",
        "  df_copy.drop(['Time', 'Amount'], axis=1, inplace=True)\n",
        "  return df_copy"
      ],
      "execution_count": 16,
      "outputs": []
    },
    {
      "cell_type": "code",
      "metadata": {
        "id": "k7r7spbjneUV"
      },
      "source": [
        "def get_train_test_dataset(df=None):\n",
        "  df_copy = get_preprocessed_df(df)\n",
        "  X_features = df_copy.iloc[:, :-1]\n",
        "  y_target = df_copy.iloc[:,-1]\n",
        "  X_train, X_test, y_train, y_test = train_test_split(X_features, y_target, test_size=0.3, random_state=0, stratify=y_target)\n",
        "  return X_train, X_test, y_train, y_test"
      ],
      "execution_count": 12,
      "outputs": []
    },
    {
      "cell_type": "code",
      "metadata": {
        "id": "_lz893e4pESW"
      },
      "source": [
        "X_train, X_test, y_train, y_test = get_train_test_dataset(card_df)"
      ],
      "execution_count": 17,
      "outputs": []
    },
    {
      "cell_type": "code",
      "metadata": {
        "colab": {
          "base_uri": "https://localhost:8080/"
        },
        "id": "-2Tw6uYFpRos",
        "outputId": "a91148df-b2dd-4196-f8a4-00f2ea427534"
      },
      "source": [
        "print(y_train.value_counts()/y_train.shape[0]*100)\n",
        "print(y_test.value_counts()/y_test.shape[0]*100)"
      ],
      "execution_count": 18,
      "outputs": [
        {
          "output_type": "stream",
          "text": [
            "0    99.827451\n",
            "1     0.172549\n",
            "Name: Class, dtype: float64\n",
            "0    99.826785\n",
            "1     0.173215\n",
            "Name: Class, dtype: float64\n"
          ],
          "name": "stdout"
        }
      ]
    },
    {
      "cell_type": "code",
      "metadata": {
        "id": "9tL8_0exqwjk"
      },
      "source": [
        "def get_clf_eval(y_test, pred):\n",
        "  confusion = confusion_matrix(y_test, pred)\n",
        "  accuracy = accuracy_score(y_test, pred)\n",
        "  precision = precision_score(y_test, pred)\n",
        "  recall = recall_score(y_test, pred)\n",
        "  f1 = f1_score(y_test, pred)\n",
        "  roc_score = roc_auc_score(y_test, pred)\n",
        "  print('confusion matrix')\n",
        "  print(confusion)\n",
        "  print('정확도: {0:.4f}, 정밀도: {1:.4f}, 재현율: {2:.4f}, F1: {3:.4f}, roc: {4:.4f}'.format(accuracy, precision, recall, f1, roc_score))"
      ],
      "execution_count": 19,
      "outputs": []
    },
    {
      "cell_type": "code",
      "metadata": {
        "colab": {
          "base_uri": "https://localhost:8080/"
        },
        "id": "3lBsogKcsHoI",
        "outputId": "2a29cb6f-70a4-4067-f746-011a1e5a03eb"
      },
      "source": [
        "from sklearn.linear_model import LogisticRegression\n",
        "\n",
        "lr_clf = LogisticRegression()\n",
        "lr_clf.fit(X_train, y_train)\n",
        "lr_pred = lr_clf.predict(X_test)\n",
        "get_clf_eval(y_test, lr_pred)"
      ],
      "execution_count": 20,
      "outputs": [
        {
          "output_type": "stream",
          "text": [
            "confusion matrix\n",
            "[[85283    12]\n",
            " [   59    89]]\n",
            "정확도: 0.9992, 정밀도: 0.8812, 재현율: 0.6014, F1: 0.7149, roc: 0.8006\n"
          ],
          "name": "stdout"
        }
      ]
    },
    {
      "cell_type": "code",
      "metadata": {
        "id": "2eU2dd9MsoeZ"
      },
      "source": [
        "def get_model_train_eval(model, ftr_train=None, ftr_test=None, tgt_train=None, tgt_test=None):\n",
        "  model.fit(ftr_train, tgt_train)\n",
        "  pred = model.predict(ftr_test)\n",
        "  get_clf_eval(tgt_test, pred)"
      ],
      "execution_count": 21,
      "outputs": []
    },
    {
      "cell_type": "code",
      "metadata": {
        "colab": {
          "base_uri": "https://localhost:8080/"
        },
        "id": "zt53G21H0DB1",
        "outputId": "07c79c1d-83cc-4d65-d401-ec55ce94c4f5"
      },
      "source": [
        "from lightgbm import LGBMClassifier\n",
        "\n",
        "lgbm_clf = LGBMClassifier(n_estimators=1000, num_leaves=64, n_jobs=-1, boost_from_average=False)\n",
        "get_model_train_eval(lgbm_clf, ftr_train=X_train, ftr_test=X_test, tgt_train=y_train, tgt_test=y_test)"
      ],
      "execution_count": 22,
      "outputs": [
        {
          "output_type": "stream",
          "text": [
            "confusion matrix\n",
            "[[85290     5]\n",
            " [   35   113]]\n",
            "정확도: 0.9995, 정밀도: 0.9576, 재현율: 0.7635, F1: 0.8496, roc: 0.8817\n"
          ],
          "name": "stdout"
        }
      ]
    },
    {
      "cell_type": "code",
      "metadata": {
        "colab": {
          "base_uri": "https://localhost:8080/",
          "height": 328
        },
        "id": "ozJhtPTw2sHt",
        "outputId": "c23170c3-a989-40eb-bfd9-33ee4fd8c786"
      },
      "source": [
        "plt.figure(figsize=(8,4))\n",
        "plt.xticks(range(0, 30000, 1000), rotation=60)\n",
        "sns.distplot(card_df['Amount'])"
      ],
      "execution_count": 23,
      "outputs": [
        {
          "output_type": "execute_result",
          "data": {
            "text/plain": [
              "<matplotlib.axes._subplots.AxesSubplot at 0x7f582ecbdf98>"
            ]
          },
          "metadata": {
            "tags": []
          },
          "execution_count": 23
        },
        {
          "output_type": "display_data",
          "data": {
            "image/png": "[encoded data removed]",
            "text/plain": [
              "<Figure size 576x288 with 1 Axes>"
            ]
          },
          "metadata": {
            "tags": [],
            "needs_background": "light"
          }
        }
      ]
    },
    {
      "cell_type": "code",
      "metadata": {
        "id": "Xng_KIGf4JeI"
      },
      "source": [
        "from sklearn.preprocessing import StandardScaler\n",
        "\n",
        "def get_preprocessed_df_standard(df=None):\n",
        "  df_copy = df.copy()\n",
        "  scaler = StandardScaler()\n",
        "  amount_n = scaler.fit_transform(df_copy['Amount'].values.reshape(-1,1))\n",
        "  df_copy.insert(0, 'Amount_Scaled', amount_n)\n",
        "  df_copy.drop(['Time','Amount'], axis=1, inplace=True)\n",
        "  return df_copy"
      ],
      "execution_count": null,
      "outputs": []
    },
    {
      "cell_type": "code",
      "metadata": {
        "id": "86M6zncF7lNJ"
      },
      "source": [
        "X_train, X_test, y_train, y_test = get_train_test_dataset(card_df)"
      ],
      "execution_count": null,
      "outputs": []
    },
    {
      "cell_type": "code",
      "metadata": {
        "colab": {
          "base_uri": "https://localhost:8080/"
        },
        "id": "rGojI-IX7rQ2",
        "outputId": "dbe96639-1bfe-4ad9-8c5a-12b952d11487"
      },
      "source": [
        "lr_clf = LogisticRegression()\n",
        "get_model_train_eval(lr_clf, ftr_train=X_train, ftr_test=X_test, tgt_train=y_train, tgt_test=y_test)\n",
        "\n",
        "lgbm_clf = LGBMClassifier(n_estimators=1000, num_leaves=64, n_jobs=-1, boost_from_average=False)\n",
        "get_model_train_eval(lgbm_clf, ftr_train=X_train, ftr_test=X_test, tgt_train=y_train, tgt_test=y_test)"
      ],
      "execution_count": 24,
      "outputs": [
        {
          "output_type": "stream",
          "text": [
            "confusion matrix\n",
            "[[85283    12]\n",
            " [   59    89]]\n",
            "정확도: 0.9992, 정밀도: 0.8812, 재현율: 0.6014, F1: 0.7149, roc: 0.8006\n",
            "confusion matrix\n",
            "[[85290     5]\n",
            " [   35   113]]\n",
            "정확도: 0.9995, 정밀도: 0.9576, 재현율: 0.7635, F1: 0.8496, roc: 0.8817\n"
          ],
          "name": "stdout"
        }
      ]
    },
    {
      "cell_type": "code",
      "metadata": {
        "id": "eBdznbgWE_Jk",
        "colab": {
          "base_uri": "https://localhost:8080/",
          "height": 595
        },
        "outputId": "ea40f9b4-c0c4-42b4-aff4-f8e174192985"
      },
      "source": [
        "plt.figure(figsize=(9,9))\n",
        "corr = card_df.corr()\n",
        "sns.heatmap(corr, cmap='RdBu')"
      ],
      "execution_count": 25,
      "outputs": [
        {
          "output_type": "execute_result",
          "data": {
            "text/plain": [
              "<matplotlib.axes._subplots.AxesSubplot at 0x7f582dc54eb8>"
            ]
          },
          "metadata": {
            "tags": []
          },
          "execution_count": 25
        },
        {
          "output_type": "display_data",
          "data": {
            "image/png": "[encoded data removed]",
            "text/plain": [
              "<Figure size 648x648 with 2 Axes>"
            ]
          },
          "metadata": {
            "tags": [],
            "needs_background": "light"
          }
        }
      ]
    },
    {
      "cell_type": "code",
      "metadata": {
        "id": "st2l5Ob4diUa"
      },
      "source": [
        "def get_outlier(df=None, column=None, weight=1.5):\n",
        "  fraud = df[df['Class']==1][column]\n",
        "  quantile_25 = np.percentile(fraud.values, 25)\n",
        "  quantile_75 = np.percentile(fraud.values, 75)\n",
        "\n",
        "  iqr = quantile_75 - quantile_25\n",
        "  iqr_weight = iqr*weight\n",
        "  lowest_val = quantile_25 - iqr_weight\n",
        "  highest_val = quantile_75 + iqr_weight\n",
        "\n",
        "  outlier_index = fraud[(fraud < lowest_val) | (fraud > highest_val)].index\n",
        "  return outlier_index"
      ],
      "execution_count": 46,
      "outputs": []
    },
    {
      "cell_type": "code",
      "metadata": {
        "colab": {
          "base_uri": "https://localhost:8080/"
        },
        "id": "xIarCR6P5Q26",
        "outputId": "10607374-00f5-4495-e150-cf2a650584ac"
      },
      "source": [
        "outlier_index = get_outlier(df = card_df, column='V14', weight=1.5)\n",
        "print('이상치 데이터 인덱스:', outlier_index)"
      ],
      "execution_count": 69,
      "outputs": [
        {
          "output_type": "stream",
          "text": [
            "이상치 데이터 인덱스: Int64Index([8296, 8615, 9035, 9252], dtype='int64')\n"
          ],
          "name": "stdout"
        }
      ]
    },
    {
      "cell_type": "code",
      "metadata": {
        "colab": {
          "base_uri": "https://localhost:8080/"
        },
        "id": "uRnCrqZ19__8",
        "outputId": "65521a94-7e95-4e2d-a0a3-469a2cb66267"
      },
      "source": [
        "outlier_index = get_outlier(df = card_df, column='V17', weight=1.5)\n",
        "print('이상치 데이터 인덱스:', outlier_index)"
      ],
      "execution_count": 53,
      "outputs": [
        {
          "output_type": "stream",
          "text": [
            "이상치 데이터 인덱스: Int64Index([], dtype='int64')\n"
          ],
          "name": "stdout"
        }
      ]
    },
    {
      "cell_type": "code",
      "metadata": {
        "id": "ATv0i8tf-lvM"
      },
      "source": [
        "def get_preprocessed_df(df=None):\n",
        "  df_copy = df.copy()\n",
        "  amount_n = np.log1p(df_copy['Amount'])\n",
        "  df_copy.insert(0, 'Amount_Scaled', amount_n)\n",
        "  df_copy.drop(['Time', 'Amount'], axis=1, inplace=True)\n",
        "  #이상치 데이터 삭제\n",
        "  oulier_index = get_outlier(df=df_copy, column='V14', weight=1.5)\n",
        "  df_copy.drop(outlier_index, axis=0, inplace=True)\n",
        "  return df_copy"
      ],
      "execution_count": 70,
      "outputs": []
    },
    {
      "cell_type": "code",
      "metadata": {
        "id": "6fjpEYJM_BGe"
      },
      "source": [
        "X_train, X_test, y_train, y_test = get_train_test_dataset(card_df)"
      ],
      "execution_count": 71,
      "outputs": []
    },
    {
      "cell_type": "code",
      "metadata": {
        "colab": {
          "base_uri": "https://localhost:8080/"
        },
        "id": "l26BFHAK8hQt",
        "outputId": "1dfdd2f7-f167-4e69-aab5-6b16f00a52be"
      },
      "source": [
        "get_model_train_eval(lr_clf, ftr_train=X_train, ftr_test=X_test, tgt_train=y_train, tgt_test=y_test)\n",
        "get_model_train_eval(lgbm_clf, ftr_train=X_train, ftr_test=X_test, tgt_train=y_train, tgt_test=y_test)"
      ],
      "execution_count": 72,
      "outputs": [
        {
          "output_type": "stream",
          "text": [
            "confusion matrix\n",
            "[[85281    14]\n",
            " [   48    98]]\n",
            "정확도: 0.9993, 정밀도: 0.8750, 재현율: 0.6712, F1: 0.7597, roc: 0.8355\n",
            "confusion matrix\n",
            "[[85291     4]\n",
            " [   25   121]]\n",
            "정확도: 0.9997, 정밀도: 0.9680, 재현율: 0.8288, F1: 0.8930, roc: 0.9144\n"
          ],
          "name": "stdout"
        }
      ]
    },
    {
      "cell_type": "markdown",
      "metadata": {
        "id": "4IV_EilaDctv"
      },
      "source": [
        "### SMOTE (over sampling)"
      ]
    },
    {
      "cell_type": "code",
      "metadata": {
        "colab": {
          "base_uri": "https://localhost:8080/"
        },
        "id": "dxWND0IFDaTI",
        "outputId": "6fdb2fb4-77ef-4b9b-843e-1d02012e0def"
      },
      "source": [
        "from imblearn.over_sampling import SMOTE\n",
        "\n",
        "smote = SMOTE(random_state=0)\n",
        "X_train_over, y_train_over = smote.fit_sample(X_train, y_train)\n",
        "print('SMOTE 적용 전 학습용 피처/레이블 데이터 세트: ', X_train.shape, y_train.shape)\n",
        "print('SMOTE 적용 후 학습용 피처/레이블 데이터 세트: ', X_train_over.shape, y_train_over.shape)\n",
        "print('SMOTE 적용 후 레이블 값 분포: \\n', pd.Series(y_train_over).value_counts())"
      ],
      "execution_count": 73,
      "outputs": [
        {
          "output_type": "stream",
          "text": [
            "SMOTE 적용 전 학습용 피처/레이블 데이터 세트:  (199362, 29) (199362,)\n",
            "SMOTE 적용 후 학습용 피처/레이블 데이터 세트:  (398040, 29) (398040,)\n",
            "SMOTE 적용 후 레이블 값 분포: \n",
            " 1    199020\n",
            "0    199020\n",
            "dtype: int64\n"
          ],
          "name": "stdout"
        }
      ]
    },
    {
      "cell_type": "code",
      "metadata": {
        "colab": {
          "base_uri": "https://localhost:8080/"
        },
        "id": "Zk5bg6uoEu34",
        "outputId": "2457d241-2ff2-434c-f986-43933fe57187"
      },
      "source": [
        "get_model_train_eval(lr_clf, ftr_train=X_train_over, ftr_test=X_test, tgt_train=y_train_over, tgt_test=y_test)"
      ],
      "execution_count": 74,
      "outputs": [
        {
          "output_type": "stream",
          "text": [
            "confusion matrix\n",
            "[[82937  2358]\n",
            " [   11   135]]\n",
            "정확도: 0.9723, 정밀도: 0.0542, 재현율: 0.9247, F1: 0.1023, roc: 0.9485\n"
          ],
          "name": "stdout"
        }
      ]
    },
    {
      "cell_type": "code",
      "metadata": {
        "id": "fPmdS7fMFWEo"
      },
      "source": [
        "def precision_recall_curve_plot(y_test, pred_proba_c1):\n",
        "  precisions, recalls, thresholds = precision_recall_curve(y_test, pred_proba_c1)\n",
        "\n",
        "  plt.figure(figsize=(8,6))\n",
        "  threshold_boundary = thresholds.shape[0]\n",
        "  plt.plot(thresholds, precisions[0:threshold_boundary], linestyle='-', label='precision')\n",
        "  plt.plot(thresholds, recalls[0:threshold_boundary], label='recall')\n",
        "\n",
        "  start, end = plt.xlim()\n",
        "  plt.xticks(np.round(np.arange(start, end, 0.1), 2))\n",
        "\n",
        "  plt.xlabel('Threshold value'); plt.ylabel('Precision and Recall value')\n",
        "  plt.legend(); plt.grid()\n",
        "  plt.show()"
      ],
      "execution_count": 77,
      "outputs": []
    },
    {
      "cell_type": "code",
      "metadata": {
        "colab": {
          "base_uri": "https://localhost:8080/",
          "height": 394
        },
        "id": "NkcDHUGLJDI0",
        "outputId": "caf416e2-c99b-4d47-ca3d-4f858617c3ac"
      },
      "source": [
        "precision_recall_curve_plot(y_test, lr_clf.predict_proba(X_test)[:,1])"
      ],
      "execution_count": 78,
      "outputs": [
        {
          "output_type": "display_data",
          "data": {
            "image/png": "[encoded data removed]",
            "text/plain": [
              "<Figure size 576x432 with 1 Axes>"
            ]
          },
          "metadata": {
            "tags": [],
            "needs_background": "light"
          }
        }
      ]
    },
    {
      "cell_type": "code",
      "metadata": {
        "colab": {
          "base_uri": "https://localhost:8080/"
        },
        "id": "FvvkdFWMJLGT",
        "outputId": "2317ac2d-ca39-4d6f-c7dc-6bfbe0b1e40d"
      },
      "source": [
        "get_model_train_eval(lgbm_clf, ftr_train=X_train_over, ftr_test=X_test, tgt_train=y_train_over, tgt_test=y_test)"
      ],
      "execution_count": 80,
      "outputs": [
        {
          "output_type": "stream",
          "text": [
            "confusion matrix\n",
            "[[85286     9]\n",
            " [   22   124]]\n",
            "정확도: 0.9996, 정밀도: 0.9323, 재현율: 0.8493, F1: 0.8889, roc: 0.9246\n"
          ],
          "name": "stdout"
        }
      ]
    },
    {
      "cell_type": "code",
      "metadata": {
        "id": "hU6QAdvYJi4Z"
      },
      "source": [
        ""
      ],
      "execution_count": null,
      "outputs": []
    }
  ]
}