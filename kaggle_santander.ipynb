{
  "nbformat": 4,
  "nbformat_minor": 0,
  "metadata": {
    "colab": {
      "name": "kaggle_santander.ipynb",
      "provenance": [],
      "collapsed_sections": [],
      "toc_visible": true,
      "authorship_tag": "ABX9TyPQB/3QgCZufKQrx8bO2y/b",
      "include_colab_link": true
    },
    "kernelspec": {
      "name": "python3",
      "display_name": "Python 3"
    }
  },
  "cells": [
    {
      "cell_type": "markdown",
      "metadata": {
        "id": "view-in-github",
        "colab_type": "text"
      },
      "source": [
        "<a href=\"https://colab.research.google.com/github/sysiphe0/kaggle/blob/main/kaggle_santander.ipynb\" target=\"_parent\"><img src=\"https://colab.research.google.com/assets/colab-badge.svg\" alt=\"Open In Colab\"/></a>"
      ]
    },
    {
      "cell_type": "markdown",
      "metadata": {
        "id": "QupePHwYD6z3"
      },
      "source": [
        "## #1. read file"
      ]
    },
    {
      "cell_type": "code",
      "metadata": {
        "id": "NzkRRTnF4t-4"
      },
      "source": [
        "import numpy as np\n",
        "import pandas as pd\n",
        "\n",
        "import warnings\n",
        "warnings.filterwarnings(\"ignore\")\n",
        "import seaborn as sns\n",
        "sns.set(style=\"white\", color_codes=True)\n",
        "import matplotlib.pyplot as plt\n",
        "import matplotlib\n",
        "from google.colab import drive"
      ],
      "execution_count": 1,
      "outputs": []
    },
    {
      "cell_type": "code",
      "metadata": {
        "id": "eOozEE0pwnKK"
      },
      "source": [
        "def chk_dup_features(df):\n",
        "  remove = []\n",
        "  c = df.columns\n",
        "  for i in range(len(c)-1):\n",
        "    v = df[c[i]].values\n",
        "    for j in range(i+1, len(c)):\n",
        "      if np.array_equal(v, df[c[j]].values):\n",
        "        remove.append(c[j])\n",
        "  return list(set(remove))"
      ],
      "execution_count": 2,
      "outputs": []
    },
    {
      "cell_type": "code",
      "metadata": {
        "id": "Q6G5aZyBxp3c"
      },
      "source": [
        "def chk_constant_features(df):\n",
        "  remove = []\n",
        "  c = df.columns\n",
        "  for i in range(len(c)-1):\n",
        "    if df[c[i]].std() == 0:\n",
        "      remove.append(c[i])\n",
        "  return remove"
      ],
      "execution_count": 3,
      "outputs": []
    },
    {
      "cell_type": "code",
      "metadata": {
        "id": "nU1RAVJucXFl"
      },
      "source": [
        "def chk_correlation(df, threshold):\n",
        "  col_corr = set()\n",
        "  corr_matrix = df.corr()\n",
        "  for i in range(len(corr_matrix.columns)):\n",
        "    for j in range(i):\n",
        "      if abs(corr_matrix.iloc[i,j]) > threshold:\n",
        "        colname = corr_matrix.columns[i]\n",
        "        col_corr.add(colname)\n",
        "  return col_corr"
      ],
      "execution_count": 4,
      "outputs": []
    },
    {
      "cell_type": "code",
      "metadata": {
        "id": "qF3AevEhK9QP"
      },
      "source": [
        "def read_train_test_data(path):\n",
        "  # read train/test csv data\n",
        "  train_df = pd.read_csv(\"/content/drive/My Drive/\"+path+\"/train.csv\")\n",
        "  test_df = pd.read_csv(\"/content/drive/My Drive/\"+path+\"/test.csv\")\n",
        "  # replace outlier\n",
        "  train_df['var3'].replace(-999999,2,inplace=True)\n",
        "  # separate ID feature and drop it (for making submission file)\n",
        "  test_id = test_df.ID\n",
        "  train_df.drop('ID', axis=1, inplace=True)\n",
        "  test_df.drop('ID', axis=1, inplace=True)\n",
        "  # separate TARGET feature and drop it\n",
        "  train_labels = train_df.TARGET\n",
        "  train_df.drop('TARGET',axis=1, inplace=True)\n",
        "  # return result\n",
        "  return train_df, test_df, test_id, train_labels"
      ],
      "execution_count": 5,
      "outputs": []
    },
    {
      "cell_type": "code",
      "metadata": {
        "id": "ru4SWx8gwixn",
        "outputId": "8b2b2b64-3f68-4a22-b5dd-4b6814121d66",
        "colab": {
          "base_uri": "https://localhost:8080/",
          "height": 35
        }
      },
      "source": [
        "drive.mount('/content/drive')"
      ],
      "execution_count": 6,
      "outputs": [
        {
          "output_type": "stream",
          "text": [
            "Mounted at /content/drive\n"
          ],
          "name": "stdout"
        }
      ]
    },
    {
      "cell_type": "code",
      "metadata": {
        "id": "bAQysAWFMTEi",
        "outputId": "f91c1ce4-5541-4782-e69e-a20324671d5b",
        "colab": {
          "base_uri": "https://localhost:8080/",
          "height": 35
        }
      },
      "source": [
        "train_df, test_df, test_id, train_labels = read_train_test_data('santander')\n",
        "print(train_df.shape, test_df.shape, test_id.shape, train_labels.shape)"
      ],
      "execution_count": 50,
      "outputs": [
        {
          "output_type": "stream",
          "text": [
            "(76020, 369) (75818, 369) (75818,) (76020,)\n"
          ],
          "name": "stdout"
        }
      ]
    },
    {
      "cell_type": "markdown",
      "metadata": {
        "id": "t9cQmUtB4pQl"
      },
      "source": [
        "## #2. Feature Selection"
      ]
    },
    {
      "cell_type": "markdown",
      "metadata": {
        "id": "GbY25l4xGtTl"
      },
      "source": [
        "#### 1)  remove duplicated features"
      ]
    },
    {
      "cell_type": "code",
      "metadata": {
        "id": "7H5W5v1qIPko",
        "outputId": "a0df3233-d580-42cc-8c3e-0e4baca75b13",
        "colab": {
          "base_uri": "https://localhost:8080/",
          "height": 35
        }
      },
      "source": [
        "# check duplicated features from test-set and drop it\n",
        "remove_dup_1 = chk_dup_features(test_df)\n",
        "train_df.drop(remove_dup_1, axis=1, inplace=True)\n",
        "test_df.drop(remove_dup_1, axis=1, inplace=True)\n",
        "# check duplicated features from train-set and drop it\n",
        "remove_dup_2 = chk_dup_features(train_df)\n",
        "train_df.drop(remove_dup_2, axis=1, inplace=True)\n",
        "test_df.drop(remove_dup_2, axis=1, inplace=True)\n",
        "print(len(remove_dup_1), len(remove_dup_2), train_df.shape, test_df.shape)"
      ],
      "execution_count": 51,
      "outputs": [
        {
          "output_type": "stream",
          "text": [
            "69 2 (76020, 298) (75818, 298)\n"
          ],
          "name": "stdout"
        }
      ]
    },
    {
      "cell_type": "markdown",
      "metadata": {
        "id": "w5GIhOEZaRK-"
      },
      "source": [
        "#### 2) remove constant features"
      ]
    },
    {
      "cell_type": "code",
      "metadata": {
        "id": "G3GOcwKmaPZa",
        "outputId": "abe0688e-7878-484b-f118-ffe030839fac",
        "colab": {
          "base_uri": "https://localhost:8080/",
          "height": 35
        }
      },
      "source": [
        "# check constant features from test-set and drop it\n",
        "remove_con_1 = chk_constant_features(test_df)\n",
        "train_df.drop(remove_con_1, axis=1, inplace=True)\n",
        "test_df.drop(remove_con_1, axis=1, inplace=True)\n",
        "# check constant features from train-set and drop it\n",
        "remove_con_2 = chk_constant_features(train_df)\n",
        "train_df.drop(remove_con_2, axis=1, inplace=True)\n",
        "test_df.drop(remove_con_2, axis=1, inplace=True)\n",
        "print(len(remove_con_1), len(remove_con_2), train_df.shape, test_df.shape)"
      ],
      "execution_count": 52,
      "outputs": [
        {
          "output_type": "stream",
          "text": [
            "1 0 (76020, 297) (75818, 297)\n"
          ],
          "name": "stdout"
        }
      ]
    },
    {
      "cell_type": "markdown",
      "metadata": {
        "id": "c7VA3AlwrEak"
      },
      "source": [
        "#### 3) remove quasi-constant features"
      ]
    },
    {
      "cell_type": "code",
      "metadata": {
        "id": "pNPbAnNV4m7k",
        "outputId": "ccdf7f83-790d-42f4-8436-7a7e1ecd13dc",
        "colab": {
          "base_uri": "https://localhost:8080/",
          "height": 35
        }
      },
      "source": [
        "from sklearn.feature_selection import VarianceThreshold\n",
        "# threshold = 0.01 (to remove feature which variance is under 0.01)\n",
        "sel = VarianceThreshold(threshold=0.01)\n",
        "# check from test-set and remove it\n",
        "sel.fit(test_df)\n",
        "sum_vt_1 = sum(sel.get_support())\n",
        "train_q = sel.transform(train_df)\n",
        "test_q = sel.transform(test_df)\n",
        "# check from train-set and remove it\n",
        "sel.fit(train_q)\n",
        "sum_vt_2 = sum(sel.get_support())\n",
        "train_q = sel.transform(train_q)\n",
        "test_q = sel.transform(test_q)\n",
        "print(sum_vt_1, sum_vt_2, train_q.shape, test_q.shape)"
      ],
      "execution_count": 119,
      "outputs": [
        {
          "output_type": "stream",
          "text": [
            "249 247 (76020, 247) (75818, 247)\n"
          ],
          "name": "stdout"
        }
      ]
    },
    {
      "cell_type": "code",
      "metadata": {
        "id": "tk--3g9BPKrr",
        "outputId": "ae9b1315-2008-4e68-fe65-8ff040de538d",
        "colab": {
          "base_uri": "https://localhost:8080/",
          "height": 253
        }
      },
      "source": [
        "train_df.head()"
      ],
      "execution_count": 14,
      "outputs": [
        {
          "output_type": "execute_result",
          "data": {
            "text/html": [
              "<div>\n",
              "<style scoped>\n",
              "    .dataframe tbody tr th:only-of-type {\n",
              "        vertical-align: middle;\n",
              "    }\n",
              "\n",
              "    .dataframe tbody tr th {\n",
              "        vertical-align: top;\n",
              "    }\n",
              "\n",
              "    .dataframe thead th {\n",
              "        text-align: right;\n",
              "    }\n",
              "</style>\n",
              "<table border=\"1\" class=\"dataframe\">\n",
              "  <thead>\n",
              "    <tr style=\"text-align: right;\">\n",
              "      <th></th>\n",
              "      <th>var3</th>\n",
              "      <th>var15</th>\n",
              "      <th>imp_ent_var16_ult1</th>\n",
              "      <th>imp_op_var39_comer_ult1</th>\n",
              "      <th>imp_op_var39_comer_ult3</th>\n",
              "      <th>imp_op_var40_comer_ult1</th>\n",
              "      <th>imp_op_var40_comer_ult3</th>\n",
              "      <th>imp_op_var40_efect_ult1</th>\n",
              "      <th>imp_op_var40_efect_ult3</th>\n",
              "      <th>imp_op_var40_ult1</th>\n",
              "      <th>imp_op_var41_comer_ult1</th>\n",
              "      <th>imp_op_var41_comer_ult3</th>\n",
              "      <th>imp_op_var41_efect_ult1</th>\n",
              "      <th>imp_op_var41_efect_ult3</th>\n",
              "      <th>imp_op_var41_ult1</th>\n",
              "      <th>imp_op_var39_efect_ult1</th>\n",
              "      <th>imp_op_var39_efect_ult3</th>\n",
              "      <th>imp_op_var39_ult1</th>\n",
              "      <th>imp_sal_var16_ult1</th>\n",
              "      <th>ind_var1_0</th>\n",
              "      <th>ind_var1</th>\n",
              "      <th>ind_var5_0</th>\n",
              "      <th>ind_var5</th>\n",
              "      <th>ind_var6_0</th>\n",
              "      <th>ind_var6</th>\n",
              "      <th>ind_var8_0</th>\n",
              "      <th>ind_var8</th>\n",
              "      <th>ind_var12_0</th>\n",
              "      <th>ind_var12</th>\n",
              "      <th>ind_var13_0</th>\n",
              "      <th>ind_var13_corto_0</th>\n",
              "      <th>ind_var13_corto</th>\n",
              "      <th>ind_var13_largo_0</th>\n",
              "      <th>ind_var13_largo</th>\n",
              "      <th>ind_var13_medio_0</th>\n",
              "      <th>ind_var13</th>\n",
              "      <th>ind_var14_0</th>\n",
              "      <th>ind_var14</th>\n",
              "      <th>ind_var17_0</th>\n",
              "      <th>ind_var17</th>\n",
              "      <th>...</th>\n",
              "      <th>num_var45_ult1</th>\n",
              "      <th>num_var45_ult3</th>\n",
              "      <th>saldo_medio_var5_hace2</th>\n",
              "      <th>saldo_medio_var5_hace3</th>\n",
              "      <th>saldo_medio_var5_ult1</th>\n",
              "      <th>saldo_medio_var5_ult3</th>\n",
              "      <th>saldo_medio_var8_hace2</th>\n",
              "      <th>saldo_medio_var8_hace3</th>\n",
              "      <th>saldo_medio_var8_ult1</th>\n",
              "      <th>saldo_medio_var8_ult3</th>\n",
              "      <th>saldo_medio_var12_hace2</th>\n",
              "      <th>saldo_medio_var12_hace3</th>\n",
              "      <th>saldo_medio_var12_ult1</th>\n",
              "      <th>saldo_medio_var12_ult3</th>\n",
              "      <th>saldo_medio_var13_corto_hace2</th>\n",
              "      <th>saldo_medio_var13_corto_hace3</th>\n",
              "      <th>saldo_medio_var13_corto_ult1</th>\n",
              "      <th>saldo_medio_var13_corto_ult3</th>\n",
              "      <th>saldo_medio_var13_largo_hace2</th>\n",
              "      <th>saldo_medio_var13_largo_hace3</th>\n",
              "      <th>saldo_medio_var13_largo_ult1</th>\n",
              "      <th>saldo_medio_var13_largo_ult3</th>\n",
              "      <th>saldo_medio_var13_medio_hace2</th>\n",
              "      <th>saldo_medio_var13_medio_ult3</th>\n",
              "      <th>saldo_medio_var17_hace2</th>\n",
              "      <th>saldo_medio_var17_hace3</th>\n",
              "      <th>saldo_medio_var17_ult1</th>\n",
              "      <th>saldo_medio_var17_ult3</th>\n",
              "      <th>saldo_medio_var29_hace2</th>\n",
              "      <th>saldo_medio_var29_ult1</th>\n",
              "      <th>saldo_medio_var29_ult3</th>\n",
              "      <th>saldo_medio_var33_hace2</th>\n",
              "      <th>saldo_medio_var33_hace3</th>\n",
              "      <th>saldo_medio_var33_ult1</th>\n",
              "      <th>saldo_medio_var33_ult3</th>\n",
              "      <th>saldo_medio_var44_hace2</th>\n",
              "      <th>saldo_medio_var44_hace3</th>\n",
              "      <th>saldo_medio_var44_ult1</th>\n",
              "      <th>saldo_medio_var44_ult3</th>\n",
              "      <th>var38</th>\n",
              "    </tr>\n",
              "  </thead>\n",
              "  <tbody>\n",
              "    <tr>\n",
              "      <th>0</th>\n",
              "      <td>2</td>\n",
              "      <td>23</td>\n",
              "      <td>0.0</td>\n",
              "      <td>0.0</td>\n",
              "      <td>0.0</td>\n",
              "      <td>0.0</td>\n",
              "      <td>0.0</td>\n",
              "      <td>0.0</td>\n",
              "      <td>0.0</td>\n",
              "      <td>0.0</td>\n",
              "      <td>0.0</td>\n",
              "      <td>0.0</td>\n",
              "      <td>0.0</td>\n",
              "      <td>0.0</td>\n",
              "      <td>0.0</td>\n",
              "      <td>0.0</td>\n",
              "      <td>0.0</td>\n",
              "      <td>0.0</td>\n",
              "      <td>0.0</td>\n",
              "      <td>0</td>\n",
              "      <td>0</td>\n",
              "      <td>1</td>\n",
              "      <td>0</td>\n",
              "      <td>0</td>\n",
              "      <td>0</td>\n",
              "      <td>0</td>\n",
              "      <td>0</td>\n",
              "      <td>0</td>\n",
              "      <td>0</td>\n",
              "      <td>0</td>\n",
              "      <td>0</td>\n",
              "      <td>0</td>\n",
              "      <td>0</td>\n",
              "      <td>0</td>\n",
              "      <td>0</td>\n",
              "      <td>0</td>\n",
              "      <td>0</td>\n",
              "      <td>0</td>\n",
              "      <td>0</td>\n",
              "      <td>0</td>\n",
              "      <td>...</td>\n",
              "      <td>0</td>\n",
              "      <td>0</td>\n",
              "      <td>0.00</td>\n",
              "      <td>0.00</td>\n",
              "      <td>0.00</td>\n",
              "      <td>0.00</td>\n",
              "      <td>0.0</td>\n",
              "      <td>0.0</td>\n",
              "      <td>0.0</td>\n",
              "      <td>0.0</td>\n",
              "      <td>0.0</td>\n",
              "      <td>0.0</td>\n",
              "      <td>0.00</td>\n",
              "      <td>0.00</td>\n",
              "      <td>0.0</td>\n",
              "      <td>0.00</td>\n",
              "      <td>0.0</td>\n",
              "      <td>0.00</td>\n",
              "      <td>0.0</td>\n",
              "      <td>0.0</td>\n",
              "      <td>0.0</td>\n",
              "      <td>0.0</td>\n",
              "      <td>0.0</td>\n",
              "      <td>0.0</td>\n",
              "      <td>0.0</td>\n",
              "      <td>0.0</td>\n",
              "      <td>0.0</td>\n",
              "      <td>0.0</td>\n",
              "      <td>0.0</td>\n",
              "      <td>0.0</td>\n",
              "      <td>0.0</td>\n",
              "      <td>0.0</td>\n",
              "      <td>0.0</td>\n",
              "      <td>0.0</td>\n",
              "      <td>0.0</td>\n",
              "      <td>0.0</td>\n",
              "      <td>0.0</td>\n",
              "      <td>0.0</td>\n",
              "      <td>0.0</td>\n",
              "      <td>39205.170000</td>\n",
              "    </tr>\n",
              "    <tr>\n",
              "      <th>1</th>\n",
              "      <td>2</td>\n",
              "      <td>34</td>\n",
              "      <td>0.0</td>\n",
              "      <td>0.0</td>\n",
              "      <td>0.0</td>\n",
              "      <td>0.0</td>\n",
              "      <td>0.0</td>\n",
              "      <td>0.0</td>\n",
              "      <td>0.0</td>\n",
              "      <td>0.0</td>\n",
              "      <td>0.0</td>\n",
              "      <td>0.0</td>\n",
              "      <td>0.0</td>\n",
              "      <td>0.0</td>\n",
              "      <td>0.0</td>\n",
              "      <td>0.0</td>\n",
              "      <td>0.0</td>\n",
              "      <td>0.0</td>\n",
              "      <td>0.0</td>\n",
              "      <td>0</td>\n",
              "      <td>0</td>\n",
              "      <td>1</td>\n",
              "      <td>0</td>\n",
              "      <td>0</td>\n",
              "      <td>0</td>\n",
              "      <td>0</td>\n",
              "      <td>0</td>\n",
              "      <td>0</td>\n",
              "      <td>0</td>\n",
              "      <td>1</td>\n",
              "      <td>1</td>\n",
              "      <td>1</td>\n",
              "      <td>0</td>\n",
              "      <td>0</td>\n",
              "      <td>0</td>\n",
              "      <td>1</td>\n",
              "      <td>0</td>\n",
              "      <td>0</td>\n",
              "      <td>0</td>\n",
              "      <td>0</td>\n",
              "      <td>...</td>\n",
              "      <td>0</td>\n",
              "      <td>0</td>\n",
              "      <td>0.00</td>\n",
              "      <td>88.89</td>\n",
              "      <td>0.00</td>\n",
              "      <td>0.00</td>\n",
              "      <td>0.0</td>\n",
              "      <td>0.0</td>\n",
              "      <td>0.0</td>\n",
              "      <td>0.0</td>\n",
              "      <td>0.0</td>\n",
              "      <td>0.0</td>\n",
              "      <td>0.00</td>\n",
              "      <td>0.00</td>\n",
              "      <td>300.0</td>\n",
              "      <td>122.22</td>\n",
              "      <td>300.0</td>\n",
              "      <td>240.75</td>\n",
              "      <td>0.0</td>\n",
              "      <td>0.0</td>\n",
              "      <td>0.0</td>\n",
              "      <td>0.0</td>\n",
              "      <td>0.0</td>\n",
              "      <td>0.0</td>\n",
              "      <td>0.0</td>\n",
              "      <td>0.0</td>\n",
              "      <td>0.0</td>\n",
              "      <td>0.0</td>\n",
              "      <td>0.0</td>\n",
              "      <td>0.0</td>\n",
              "      <td>0.0</td>\n",
              "      <td>0.0</td>\n",
              "      <td>0.0</td>\n",
              "      <td>0.0</td>\n",
              "      <td>0.0</td>\n",
              "      <td>0.0</td>\n",
              "      <td>0.0</td>\n",
              "      <td>0.0</td>\n",
              "      <td>0.0</td>\n",
              "      <td>49278.030000</td>\n",
              "    </tr>\n",
              "    <tr>\n",
              "      <th>2</th>\n",
              "      <td>2</td>\n",
              "      <td>23</td>\n",
              "      <td>0.0</td>\n",
              "      <td>0.0</td>\n",
              "      <td>0.0</td>\n",
              "      <td>0.0</td>\n",
              "      <td>0.0</td>\n",
              "      <td>0.0</td>\n",
              "      <td>0.0</td>\n",
              "      <td>0.0</td>\n",
              "      <td>0.0</td>\n",
              "      <td>0.0</td>\n",
              "      <td>0.0</td>\n",
              "      <td>0.0</td>\n",
              "      <td>0.0</td>\n",
              "      <td>0.0</td>\n",
              "      <td>0.0</td>\n",
              "      <td>0.0</td>\n",
              "      <td>0.0</td>\n",
              "      <td>0</td>\n",
              "      <td>0</td>\n",
              "      <td>1</td>\n",
              "      <td>1</td>\n",
              "      <td>0</td>\n",
              "      <td>0</td>\n",
              "      <td>0</td>\n",
              "      <td>0</td>\n",
              "      <td>0</td>\n",
              "      <td>0</td>\n",
              "      <td>0</td>\n",
              "      <td>0</td>\n",
              "      <td>0</td>\n",
              "      <td>0</td>\n",
              "      <td>0</td>\n",
              "      <td>0</td>\n",
              "      <td>0</td>\n",
              "      <td>0</td>\n",
              "      <td>0</td>\n",
              "      <td>0</td>\n",
              "      <td>0</td>\n",
              "      <td>...</td>\n",
              "      <td>0</td>\n",
              "      <td>0</td>\n",
              "      <td>3.00</td>\n",
              "      <td>0.18</td>\n",
              "      <td>3.00</td>\n",
              "      <td>2.07</td>\n",
              "      <td>0.0</td>\n",
              "      <td>0.0</td>\n",
              "      <td>0.0</td>\n",
              "      <td>0.0</td>\n",
              "      <td>0.0</td>\n",
              "      <td>0.0</td>\n",
              "      <td>0.00</td>\n",
              "      <td>0.00</td>\n",
              "      <td>0.0</td>\n",
              "      <td>0.00</td>\n",
              "      <td>0.0</td>\n",
              "      <td>0.00</td>\n",
              "      <td>0.0</td>\n",
              "      <td>0.0</td>\n",
              "      <td>0.0</td>\n",
              "      <td>0.0</td>\n",
              "      <td>0.0</td>\n",
              "      <td>0.0</td>\n",
              "      <td>0.0</td>\n",
              "      <td>0.0</td>\n",
              "      <td>0.0</td>\n",
              "      <td>0.0</td>\n",
              "      <td>0.0</td>\n",
              "      <td>0.0</td>\n",
              "      <td>0.0</td>\n",
              "      <td>0.0</td>\n",
              "      <td>0.0</td>\n",
              "      <td>0.0</td>\n",
              "      <td>0.0</td>\n",
              "      <td>0.0</td>\n",
              "      <td>0.0</td>\n",
              "      <td>0.0</td>\n",
              "      <td>0.0</td>\n",
              "      <td>67333.770000</td>\n",
              "    </tr>\n",
              "    <tr>\n",
              "      <th>3</th>\n",
              "      <td>2</td>\n",
              "      <td>37</td>\n",
              "      <td>0.0</td>\n",
              "      <td>195.0</td>\n",
              "      <td>195.0</td>\n",
              "      <td>0.0</td>\n",
              "      <td>0.0</td>\n",
              "      <td>0.0</td>\n",
              "      <td>0.0</td>\n",
              "      <td>0.0</td>\n",
              "      <td>195.0</td>\n",
              "      <td>195.0</td>\n",
              "      <td>0.0</td>\n",
              "      <td>0.0</td>\n",
              "      <td>195.0</td>\n",
              "      <td>0.0</td>\n",
              "      <td>0.0</td>\n",
              "      <td>195.0</td>\n",
              "      <td>0.0</td>\n",
              "      <td>0</td>\n",
              "      <td>0</td>\n",
              "      <td>1</td>\n",
              "      <td>1</td>\n",
              "      <td>0</td>\n",
              "      <td>0</td>\n",
              "      <td>0</td>\n",
              "      <td>0</td>\n",
              "      <td>0</td>\n",
              "      <td>0</td>\n",
              "      <td>0</td>\n",
              "      <td>0</td>\n",
              "      <td>0</td>\n",
              "      <td>0</td>\n",
              "      <td>0</td>\n",
              "      <td>0</td>\n",
              "      <td>0</td>\n",
              "      <td>0</td>\n",
              "      <td>0</td>\n",
              "      <td>0</td>\n",
              "      <td>0</td>\n",
              "      <td>...</td>\n",
              "      <td>18</td>\n",
              "      <td>48</td>\n",
              "      <td>186.09</td>\n",
              "      <td>0.00</td>\n",
              "      <td>91.56</td>\n",
              "      <td>138.84</td>\n",
              "      <td>0.0</td>\n",
              "      <td>0.0</td>\n",
              "      <td>0.0</td>\n",
              "      <td>0.0</td>\n",
              "      <td>0.0</td>\n",
              "      <td>0.0</td>\n",
              "      <td>0.00</td>\n",
              "      <td>0.00</td>\n",
              "      <td>0.0</td>\n",
              "      <td>0.00</td>\n",
              "      <td>0.0</td>\n",
              "      <td>0.00</td>\n",
              "      <td>0.0</td>\n",
              "      <td>0.0</td>\n",
              "      <td>0.0</td>\n",
              "      <td>0.0</td>\n",
              "      <td>0.0</td>\n",
              "      <td>0.0</td>\n",
              "      <td>0.0</td>\n",
              "      <td>0.0</td>\n",
              "      <td>0.0</td>\n",
              "      <td>0.0</td>\n",
              "      <td>0.0</td>\n",
              "      <td>0.0</td>\n",
              "      <td>0.0</td>\n",
              "      <td>0.0</td>\n",
              "      <td>0.0</td>\n",
              "      <td>0.0</td>\n",
              "      <td>0.0</td>\n",
              "      <td>0.0</td>\n",
              "      <td>0.0</td>\n",
              "      <td>0.0</td>\n",
              "      <td>0.0</td>\n",
              "      <td>64007.970000</td>\n",
              "    </tr>\n",
              "    <tr>\n",
              "      <th>4</th>\n",
              "      <td>2</td>\n",
              "      <td>39</td>\n",
              "      <td>0.0</td>\n",
              "      <td>0.0</td>\n",
              "      <td>0.0</td>\n",
              "      <td>0.0</td>\n",
              "      <td>0.0</td>\n",
              "      <td>0.0</td>\n",
              "      <td>0.0</td>\n",
              "      <td>0.0</td>\n",
              "      <td>0.0</td>\n",
              "      <td>0.0</td>\n",
              "      <td>0.0</td>\n",
              "      <td>0.0</td>\n",
              "      <td>0.0</td>\n",
              "      <td>0.0</td>\n",
              "      <td>0.0</td>\n",
              "      <td>0.0</td>\n",
              "      <td>0.0</td>\n",
              "      <td>0</td>\n",
              "      <td>0</td>\n",
              "      <td>1</td>\n",
              "      <td>0</td>\n",
              "      <td>0</td>\n",
              "      <td>0</td>\n",
              "      <td>0</td>\n",
              "      <td>0</td>\n",
              "      <td>1</td>\n",
              "      <td>1</td>\n",
              "      <td>0</td>\n",
              "      <td>0</td>\n",
              "      <td>0</td>\n",
              "      <td>0</td>\n",
              "      <td>0</td>\n",
              "      <td>0</td>\n",
              "      <td>0</td>\n",
              "      <td>0</td>\n",
              "      <td>0</td>\n",
              "      <td>0</td>\n",
              "      <td>0</td>\n",
              "      <td>...</td>\n",
              "      <td>0</td>\n",
              "      <td>0</td>\n",
              "      <td>3.00</td>\n",
              "      <td>0.30</td>\n",
              "      <td>40501.08</td>\n",
              "      <td>13501.47</td>\n",
              "      <td>0.0</td>\n",
              "      <td>0.0</td>\n",
              "      <td>0.0</td>\n",
              "      <td>0.0</td>\n",
              "      <td>0.0</td>\n",
              "      <td>0.0</td>\n",
              "      <td>85501.89</td>\n",
              "      <td>85501.89</td>\n",
              "      <td>0.0</td>\n",
              "      <td>0.00</td>\n",
              "      <td>0.0</td>\n",
              "      <td>0.00</td>\n",
              "      <td>0.0</td>\n",
              "      <td>0.0</td>\n",
              "      <td>0.0</td>\n",
              "      <td>0.0</td>\n",
              "      <td>0.0</td>\n",
              "      <td>0.0</td>\n",
              "      <td>0.0</td>\n",
              "      <td>0.0</td>\n",
              "      <td>0.0</td>\n",
              "      <td>0.0</td>\n",
              "      <td>0.0</td>\n",
              "      <td>0.0</td>\n",
              "      <td>0.0</td>\n",
              "      <td>0.0</td>\n",
              "      <td>0.0</td>\n",
              "      <td>0.0</td>\n",
              "      <td>0.0</td>\n",
              "      <td>0.0</td>\n",
              "      <td>0.0</td>\n",
              "      <td>0.0</td>\n",
              "      <td>0.0</td>\n",
              "      <td>117310.979016</td>\n",
              "    </tr>\n",
              "  </tbody>\n",
              "</table>\n",
              "<p>5 rows × 297 columns</p>\n",
              "</div>"
            ],
            "text/plain": [
              "   var3  var15  ...  saldo_medio_var44_ult3          var38\n",
              "0     2     23  ...                     0.0   39205.170000\n",
              "1     2     34  ...                     0.0   49278.030000\n",
              "2     2     23  ...                     0.0   67333.770000\n",
              "3     2     37  ...                     0.0   64007.970000\n",
              "4     2     39  ...                     0.0  117310.979016\n",
              "\n",
              "[5 rows x 297 columns]"
            ]
          },
          "metadata": {
            "tags": []
          },
          "execution_count": 14
        }
      ]
    },
    {
      "cell_type": "markdown",
      "metadata": {
        "id": "Fwr9uyHY3QLp"
      },
      "source": [
        "#### 4) Univariate feature selection"
      ]
    },
    {
      "cell_type": "code",
      "metadata": {
        "id": "hKAdWKsS3O-J"
      },
      "source": [
        "# not used\n",
        "#from sklearn.feature_selection import SelectKBest, chi2\n",
        "#from sklearn.feature_selection import SelectPercentile\n",
        "#from sklearn.feature_selection import f_classif  \n",
        "\n",
        "#train_kb = SelectKBest(score_func=chi2, k=10).fit_transform(train_df, train_labels)\n",
        "### train_df must be non-negative. but it has negative value. so we need to find another feature selection."
      ],
      "execution_count": null,
      "outputs": []
    },
    {
      "cell_type": "markdown",
      "metadata": {
        "id": "XIPMnL8_4-Up"
      },
      "source": [
        "#### 5) train/test 분리"
      ]
    },
    {
      "cell_type": "code",
      "metadata": {
        "id": "BvKjDWWrMVkx",
        "outputId": "31fbe4d0-baa3-477c-af38-98eda3e8c708",
        "colab": {
          "base_uri": "https://localhost:8080/",
          "height": 35
        }
      },
      "source": [
        "from sklearn.model_selection import train_test_split\n",
        "X_train, X_test, y_train, y_test = train_test_split(train_q, train_labels, test_size=0.2, random_state=0)\n",
        "print(X_train.shape, X_test.shape, y_train.shape, y_test.shape)"
      ],
      "execution_count": 120,
      "outputs": [
        {
          "output_type": "stream",
          "text": [
            "(60816, 247) (15204, 247) (60816,) (15204,)\n"
          ],
          "name": "stdout"
        }
      ]
    },
    {
      "cell_type": "markdown",
      "metadata": {
        "id": "cCuKj0Qra6ro"
      },
      "source": [
        "#### 6) Embedded Methods (Lasso, Ridge)"
      ]
    },
    {
      "cell_type": "code",
      "metadata": {
        "id": "23UDd8tad2sH",
        "outputId": "df30968c-3ce7-42db-a0ba-1f21fa149601",
        "colab": {
          "base_uri": "https://localhost:8080/",
          "height": 35
        }
      },
      "source": [
        "# Ridge를 활용한 Feature Selection 결과는 성능이 좋지않아서 사용하지 않음.\n",
        "\n",
        "#from sklearn.feature_selection import SelectFromModel\n",
        "#from sklearn.linear_model import Lasso, Ridge\n",
        "\n",
        "#sel_lasso = SelectFromModel(Lasso(alpha=0.3, normalize=True))\n",
        "#sel_lasso.fit(X_train, y_train)\n",
        "\n",
        "#sel_ridge = SelectFromModel(Ridge(alpha=0.3, normalize=True))\n",
        "#sel_ridge.fit(X_train, y_train)\n",
        "\n",
        "#print(len(X_train.columns[(sel_lasso.get_support())]), len(X_train.columns[(sel_ridge.get_support())]))"
      ],
      "execution_count": 115,
      "outputs": [
        {
          "output_type": "stream",
          "text": [
            "0 71\n"
          ],
          "name": "stdout"
        }
      ]
    },
    {
      "cell_type": "code",
      "metadata": {
        "id": "mvZC6NX1iySo"
      },
      "source": [
        "#sel_ridge_cols = X_train.columns[(sel_ridge.get_support())]\n",
        "\n",
        "#X_train_ridge = X_train[(sel_ridge_cols)]\n",
        "#X_test_ridge = X_test[(sel_ridge_cols)]"
      ],
      "execution_count": 99,
      "outputs": []
    },
    {
      "cell_type": "markdown",
      "metadata": {
        "id": "in8NLNnGafAO"
      },
      "source": [
        "####   7) 중요도 높은 feature만 선택하여 진행 (xgboost 활용)"
      ]
    },
    {
      "cell_type": "code",
      "metadata": {
        "id": "WyYRodibNFtq",
        "outputId": "e80d0f95-52c7-4631-a122-fc928026b29c",
        "colab": {
          "base_uri": "https://localhost:8080/",
          "height": 1000
        }
      },
      "source": [
        "# train and draw a plot_importance\n",
        "from xgboost import XGBClassifier\n",
        "from sklearn.metrics import roc_auc_score\n",
        "from xgboost import plot_importance\n",
        "import matplotlib.pyplot as plt\n",
        "%matplotlib inline\n",
        "\n",
        "xgb_clf = XGBClassifier(n_estimators=500, random_state=156)\n",
        "xgb_clf.fit(X_train, y_train, early_stopping_rounds=100, eval_metric=\"auc\", eval_set=[(X_train, y_train), (X_test, y_test)])\n",
        "\n",
        "fig, ax = plt.subplots(1,1,figsize=(10,8))\n",
        "plot_importance(xgb_clf, ax=ax, max_num_features=20, height=0.4)"
      ],
      "execution_count": 122,
      "outputs": [
        {
          "output_type": "stream",
          "text": [
            "[0]\tvalidation_0-auc:0.799928\tvalidation_1-auc:0.803548\n",
            "Multiple eval metrics have been passed: 'validation_1-auc' will be used for early stopping.\n",
            "\n",
            "Will train until validation_1-auc hasn't improved in 100 rounds.\n",
            "[1]\tvalidation_0-auc:0.802222\tvalidation_1-auc:0.805222\n",
            "[2]\tvalidation_0-auc:0.80819\tvalidation_1-auc:0.813162\n",
            "[3]\tvalidation_0-auc:0.8127\tvalidation_1-auc:0.813243\n",
            "[4]\tvalidation_0-auc:0.81648\tvalidation_1-auc:0.816979\n",
            "[5]\tvalidation_0-auc:0.816018\tvalidation_1-auc:0.816629\n",
            "[6]\tvalidation_0-auc:0.816474\tvalidation_1-auc:0.817776\n",
            "[7]\tvalidation_0-auc:0.818148\tvalidation_1-auc:0.818464\n",
            "[8]\tvalidation_0-auc:0.81806\tvalidation_1-auc:0.818295\n",
            "[9]\tvalidation_0-auc:0.817039\tvalidation_1-auc:0.818087\n",
            "[10]\tvalidation_0-auc:0.818318\tvalidation_1-auc:0.818749\n",
            "[11]\tvalidation_0-auc:0.818711\tvalidation_1-auc:0.818521\n",
            "[12]\tvalidation_0-auc:0.818673\tvalidation_1-auc:0.818516\n",
            "[13]\tvalidation_0-auc:0.819156\tvalidation_1-auc:0.818998\n",
            "[14]\tvalidation_0-auc:0.819847\tvalidation_1-auc:0.81999\n",
            "[15]\tvalidation_0-auc:0.822152\tvalidation_1-auc:0.821584\n",
            "[16]\tvalidation_0-auc:0.822529\tvalidation_1-auc:0.821275\n",
            "[17]\tvalidation_0-auc:0.822404\tvalidation_1-auc:0.821602\n",
            "[18]\tvalidation_0-auc:0.825227\tvalidation_1-auc:0.82523\n",
            "[19]\tvalidation_0-auc:0.82554\tvalidation_1-auc:0.824671\n",
            "[20]\tvalidation_0-auc:0.826569\tvalidation_1-auc:0.825722\n",
            "[21]\tvalidation_0-auc:0.827255\tvalidation_1-auc:0.825777\n",
            "[22]\tvalidation_0-auc:0.82805\tvalidation_1-auc:0.826496\n",
            "[23]\tvalidation_0-auc:0.827807\tvalidation_1-auc:0.826436\n",
            "[24]\tvalidation_0-auc:0.828647\tvalidation_1-auc:0.826735\n",
            "[25]\tvalidation_0-auc:0.830001\tvalidation_1-auc:0.827854\n",
            "[26]\tvalidation_0-auc:0.83056\tvalidation_1-auc:0.828164\n",
            "[27]\tvalidation_0-auc:0.830946\tvalidation_1-auc:0.828579\n",
            "[28]\tvalidation_0-auc:0.831843\tvalidation_1-auc:0.829661\n",
            "[29]\tvalidation_0-auc:0.833095\tvalidation_1-auc:0.830722\n",
            "[30]\tvalidation_0-auc:0.833537\tvalidation_1-auc:0.83108\n",
            "[31]\tvalidation_0-auc:0.834132\tvalidation_1-auc:0.830665\n",
            "[32]\tvalidation_0-auc:0.83448\tvalidation_1-auc:0.831507\n",
            "[33]\tvalidation_0-auc:0.83477\tvalidation_1-auc:0.831309\n",
            "[34]\tvalidation_0-auc:0.835454\tvalidation_1-auc:0.831417\n",
            "[35]\tvalidation_0-auc:0.83601\tvalidation_1-auc:0.831663\n",
            "[36]\tvalidation_0-auc:0.836456\tvalidation_1-auc:0.831942\n",
            "[37]\tvalidation_0-auc:0.836577\tvalidation_1-auc:0.832411\n",
            "[38]\tvalidation_0-auc:0.836988\tvalidation_1-auc:0.832691\n",
            "[39]\tvalidation_0-auc:0.837236\tvalidation_1-auc:0.833003\n",
            "[40]\tvalidation_0-auc:0.837868\tvalidation_1-auc:0.83271\n",
            "[41]\tvalidation_0-auc:0.838638\tvalidation_1-auc:0.833271\n",
            "[42]\tvalidation_0-auc:0.839178\tvalidation_1-auc:0.83321\n",
            "[43]\tvalidation_0-auc:0.839711\tvalidation_1-auc:0.833446\n",
            "[44]\tvalidation_0-auc:0.840394\tvalidation_1-auc:0.834412\n",
            "[45]\tvalidation_0-auc:0.841118\tvalidation_1-auc:0.834399\n",
            "[46]\tvalidation_0-auc:0.841513\tvalidation_1-auc:0.834504\n",
            "[47]\tvalidation_0-auc:0.842197\tvalidation_1-auc:0.835669\n",
            "[48]\tvalidation_0-auc:0.842644\tvalidation_1-auc:0.835846\n",
            "[49]\tvalidation_0-auc:0.843012\tvalidation_1-auc:0.835977\n",
            "[50]\tvalidation_0-auc:0.843695\tvalidation_1-auc:0.836633\n",
            "[51]\tvalidation_0-auc:0.84425\tvalidation_1-auc:0.83715\n",
            "[52]\tvalidation_0-auc:0.844535\tvalidation_1-auc:0.837182\n",
            "[53]\tvalidation_0-auc:0.84508\tvalidation_1-auc:0.837583\n",
            "[54]\tvalidation_0-auc:0.845616\tvalidation_1-auc:0.838102\n",
            "[55]\tvalidation_0-auc:0.84602\tvalidation_1-auc:0.837964\n",
            "[56]\tvalidation_0-auc:0.846645\tvalidation_1-auc:0.838467\n",
            "[57]\tvalidation_0-auc:0.846941\tvalidation_1-auc:0.838353\n",
            "[58]\tvalidation_0-auc:0.847311\tvalidation_1-auc:0.838367\n",
            "[59]\tvalidation_0-auc:0.847784\tvalidation_1-auc:0.838421\n",
            "[60]\tvalidation_0-auc:0.848181\tvalidation_1-auc:0.838609\n",
            "[61]\tvalidation_0-auc:0.848445\tvalidation_1-auc:0.838766\n",
            "[62]\tvalidation_0-auc:0.848953\tvalidation_1-auc:0.838939\n",
            "[63]\tvalidation_0-auc:0.849405\tvalidation_1-auc:0.839378\n",
            "[64]\tvalidation_0-auc:0.849601\tvalidation_1-auc:0.839421\n",
            "[65]\tvalidation_0-auc:0.849941\tvalidation_1-auc:0.839629\n",
            "[66]\tvalidation_0-auc:0.850161\tvalidation_1-auc:0.839715\n",
            "[67]\tvalidation_0-auc:0.850322\tvalidation_1-auc:0.839662\n",
            "[68]\tvalidation_0-auc:0.850512\tvalidation_1-auc:0.839569\n",
            "[69]\tvalidation_0-auc:0.850868\tvalidation_1-auc:0.839678\n",
            "[70]\tvalidation_0-auc:0.850981\tvalidation_1-auc:0.839758\n",
            "[71]\tvalidation_0-auc:0.851145\tvalidation_1-auc:0.839931\n",
            "[72]\tvalidation_0-auc:0.851305\tvalidation_1-auc:0.839947\n",
            "[73]\tvalidation_0-auc:0.851522\tvalidation_1-auc:0.84007\n",
            "[74]\tvalidation_0-auc:0.851667\tvalidation_1-auc:0.840082\n",
            "[75]\tvalidation_0-auc:0.851955\tvalidation_1-auc:0.840037\n",
            "[76]\tvalidation_0-auc:0.852125\tvalidation_1-auc:0.840091\n",
            "[77]\tvalidation_0-auc:0.852316\tvalidation_1-auc:0.839871\n",
            "[78]\tvalidation_0-auc:0.852587\tvalidation_1-auc:0.840114\n",
            "[79]\tvalidation_0-auc:0.852811\tvalidation_1-auc:0.840282\n",
            "[80]\tvalidation_0-auc:0.853092\tvalidation_1-auc:0.840574\n",
            "[81]\tvalidation_0-auc:0.853296\tvalidation_1-auc:0.84075\n",
            "[82]\tvalidation_0-auc:0.853443\tvalidation_1-auc:0.840738\n",
            "[83]\tvalidation_0-auc:0.8536\tvalidation_1-auc:0.840735\n",
            "[84]\tvalidation_0-auc:0.853727\tvalidation_1-auc:0.840904\n",
            "[85]\tvalidation_0-auc:0.853878\tvalidation_1-auc:0.840985\n",
            "[86]\tvalidation_0-auc:0.853998\tvalidation_1-auc:0.841019\n",
            "[87]\tvalidation_0-auc:0.854281\tvalidation_1-auc:0.840802\n",
            "[88]\tvalidation_0-auc:0.85445\tvalidation_1-auc:0.841042\n",
            "[89]\tvalidation_0-auc:0.854524\tvalidation_1-auc:0.841086\n",
            "[90]\tvalidation_0-auc:0.854656\tvalidation_1-auc:0.841144\n",
            "[91]\tvalidation_0-auc:0.854908\tvalidation_1-auc:0.841263\n",
            "[92]\tvalidation_0-auc:0.855061\tvalidation_1-auc:0.841208\n",
            "[93]\tvalidation_0-auc:0.855142\tvalidation_1-auc:0.841265\n",
            "[94]\tvalidation_0-auc:0.855326\tvalidation_1-auc:0.84131\n",
            "[95]\tvalidation_0-auc:0.855442\tvalidation_1-auc:0.841254\n",
            "[96]\tvalidation_0-auc:0.855568\tvalidation_1-auc:0.841282\n",
            "[97]\tvalidation_0-auc:0.855671\tvalidation_1-auc:0.841346\n",
            "[98]\tvalidation_0-auc:0.855955\tvalidation_1-auc:0.841386\n",
            "[99]\tvalidation_0-auc:0.856271\tvalidation_1-auc:0.841459\n",
            "[100]\tvalidation_0-auc:0.856386\tvalidation_1-auc:0.841469\n",
            "[101]\tvalidation_0-auc:0.856627\tvalidation_1-auc:0.841492\n",
            "[102]\tvalidation_0-auc:0.856774\tvalidation_1-auc:0.841468\n",
            "[103]\tvalidation_0-auc:0.856898\tvalidation_1-auc:0.841253\n",
            "[104]\tvalidation_0-auc:0.857145\tvalidation_1-auc:0.841343\n",
            "[105]\tvalidation_0-auc:0.857279\tvalidation_1-auc:0.841249\n",
            "[106]\tvalidation_0-auc:0.857362\tvalidation_1-auc:0.841119\n",
            "[107]\tvalidation_0-auc:0.857423\tvalidation_1-auc:0.841105\n",
            "[108]\tvalidation_0-auc:0.857487\tvalidation_1-auc:0.841122\n",
            "[109]\tvalidation_0-auc:0.857658\tvalidation_1-auc:0.841165\n",
            "[110]\tvalidation_0-auc:0.857734\tvalidation_1-auc:0.8412\n",
            "[111]\tvalidation_0-auc:0.85792\tvalidation_1-auc:0.841214\n",
            "[112]\tvalidation_0-auc:0.858102\tvalidation_1-auc:0.841162\n",
            "[113]\tvalidation_0-auc:0.858246\tvalidation_1-auc:0.841156\n",
            "[114]\tvalidation_0-auc:0.858382\tvalidation_1-auc:0.841204\n",
            "[115]\tvalidation_0-auc:0.85846\tvalidation_1-auc:0.841295\n",
            "[116]\tvalidation_0-auc:0.858562\tvalidation_1-auc:0.841256\n",
            "[117]\tvalidation_0-auc:0.858616\tvalidation_1-auc:0.84133\n",
            "[118]\tvalidation_0-auc:0.858718\tvalidation_1-auc:0.841398\n",
            "[119]\tvalidation_0-auc:0.858829\tvalidation_1-auc:0.841496\n",
            "[120]\tvalidation_0-auc:0.859012\tvalidation_1-auc:0.841352\n",
            "[121]\tvalidation_0-auc:0.859142\tvalidation_1-auc:0.841349\n",
            "[122]\tvalidation_0-auc:0.859203\tvalidation_1-auc:0.841364\n",
            "[123]\tvalidation_0-auc:0.859284\tvalidation_1-auc:0.84141\n",
            "[124]\tvalidation_0-auc:0.859563\tvalidation_1-auc:0.841393\n",
            "[125]\tvalidation_0-auc:0.859639\tvalidation_1-auc:0.84149\n",
            "[126]\tvalidation_0-auc:0.859759\tvalidation_1-auc:0.841484\n",
            "[127]\tvalidation_0-auc:0.859957\tvalidation_1-auc:0.841333\n",
            "[128]\tvalidation_0-auc:0.860087\tvalidation_1-auc:0.841352\n",
            "[129]\tvalidation_0-auc:0.860211\tvalidation_1-auc:0.841287\n",
            "[130]\tvalidation_0-auc:0.860261\tvalidation_1-auc:0.841392\n",
            "[131]\tvalidation_0-auc:0.860444\tvalidation_1-auc:0.841481\n",
            "[132]\tvalidation_0-auc:0.860453\tvalidation_1-auc:0.841462\n",
            "[133]\tvalidation_0-auc:0.860607\tvalidation_1-auc:0.841342\n",
            "[134]\tvalidation_0-auc:0.860749\tvalidation_1-auc:0.84124\n",
            "[135]\tvalidation_0-auc:0.86094\tvalidation_1-auc:0.841318\n",
            "[136]\tvalidation_0-auc:0.861021\tvalidation_1-auc:0.841351\n",
            "[137]\tvalidation_0-auc:0.861131\tvalidation_1-auc:0.841311\n",
            "[138]\tvalidation_0-auc:0.861229\tvalidation_1-auc:0.841289\n",
            "[139]\tvalidation_0-auc:0.861279\tvalidation_1-auc:0.841295\n",
            "[140]\tvalidation_0-auc:0.861331\tvalidation_1-auc:0.841265\n",
            "[141]\tvalidation_0-auc:0.861418\tvalidation_1-auc:0.841259\n",
            "[142]\tvalidation_0-auc:0.861553\tvalidation_1-auc:0.841335\n",
            "[143]\tvalidation_0-auc:0.861682\tvalidation_1-auc:0.841346\n",
            "[144]\tvalidation_0-auc:0.86169\tvalidation_1-auc:0.841403\n",
            "[145]\tvalidation_0-auc:0.861852\tvalidation_1-auc:0.841299\n",
            "[146]\tvalidation_0-auc:0.861898\tvalidation_1-auc:0.841301\n",
            "[147]\tvalidation_0-auc:0.861998\tvalidation_1-auc:0.841289\n",
            "[148]\tvalidation_0-auc:0.862068\tvalidation_1-auc:0.84135\n",
            "[149]\tvalidation_0-auc:0.862132\tvalidation_1-auc:0.841444\n",
            "[150]\tvalidation_0-auc:0.862236\tvalidation_1-auc:0.841409\n",
            "[151]\tvalidation_0-auc:0.862314\tvalidation_1-auc:0.841459\n",
            "[152]\tvalidation_0-auc:0.862584\tvalidation_1-auc:0.841456\n",
            "[153]\tvalidation_0-auc:0.862843\tvalidation_1-auc:0.841483\n",
            "[154]\tvalidation_0-auc:0.863033\tvalidation_1-auc:0.841493\n",
            "[155]\tvalidation_0-auc:0.863132\tvalidation_1-auc:0.841534\n",
            "[156]\tvalidation_0-auc:0.863423\tvalidation_1-auc:0.841728\n",
            "[157]\tvalidation_0-auc:0.863578\tvalidation_1-auc:0.841712\n",
            "[158]\tvalidation_0-auc:0.863872\tvalidation_1-auc:0.841677\n",
            "[159]\tvalidation_0-auc:0.863924\tvalidation_1-auc:0.841658\n",
            "[160]\tvalidation_0-auc:0.863985\tvalidation_1-auc:0.841608\n",
            "[161]\tvalidation_0-auc:0.864019\tvalidation_1-auc:0.841646\n",
            "[162]\tvalidation_0-auc:0.864049\tvalidation_1-auc:0.841665\n",
            "[163]\tvalidation_0-auc:0.864148\tvalidation_1-auc:0.841682\n",
            "[164]\tvalidation_0-auc:0.864221\tvalidation_1-auc:0.841791\n",
            "[165]\tvalidation_0-auc:0.86426\tvalidation_1-auc:0.841732\n",
            "[166]\tvalidation_0-auc:0.864309\tvalidation_1-auc:0.841688\n",
            "[167]\tvalidation_0-auc:0.864411\tvalidation_1-auc:0.841699\n",
            "[168]\tvalidation_0-auc:0.864581\tvalidation_1-auc:0.841711\n",
            "[169]\tvalidation_0-auc:0.864619\tvalidation_1-auc:0.841729\n",
            "[170]\tvalidation_0-auc:0.864709\tvalidation_1-auc:0.841684\n",
            "[171]\tvalidation_0-auc:0.864849\tvalidation_1-auc:0.841704\n",
            "[172]\tvalidation_0-auc:0.865047\tvalidation_1-auc:0.841614\n",
            "[173]\tvalidation_0-auc:0.865085\tvalidation_1-auc:0.84162\n",
            "[174]\tvalidation_0-auc:0.865321\tvalidation_1-auc:0.841734\n",
            "[175]\tvalidation_0-auc:0.865523\tvalidation_1-auc:0.8418\n",
            "[176]\tvalidation_0-auc:0.865766\tvalidation_1-auc:0.841706\n",
            "[177]\tvalidation_0-auc:0.865925\tvalidation_1-auc:0.841829\n",
            "[178]\tvalidation_0-auc:0.866004\tvalidation_1-auc:0.841863\n",
            "[179]\tvalidation_0-auc:0.866111\tvalidation_1-auc:0.841834\n",
            "[180]\tvalidation_0-auc:0.866196\tvalidation_1-auc:0.841856\n",
            "[181]\tvalidation_0-auc:0.866366\tvalidation_1-auc:0.841826\n",
            "[182]\tvalidation_0-auc:0.86643\tvalidation_1-auc:0.841757\n",
            "[183]\tvalidation_0-auc:0.866606\tvalidation_1-auc:0.841636\n",
            "[184]\tvalidation_0-auc:0.866827\tvalidation_1-auc:0.8415\n",
            "[185]\tvalidation_0-auc:0.86688\tvalidation_1-auc:0.841593\n",
            "[186]\tvalidation_0-auc:0.866935\tvalidation_1-auc:0.841556\n",
            "[187]\tvalidation_0-auc:0.867004\tvalidation_1-auc:0.84152\n",
            "[188]\tvalidation_0-auc:0.867048\tvalidation_1-auc:0.841506\n",
            "[189]\tvalidation_0-auc:0.867219\tvalidation_1-auc:0.841506\n",
            "[190]\tvalidation_0-auc:0.867274\tvalidation_1-auc:0.841485\n",
            "[191]\tvalidation_0-auc:0.867332\tvalidation_1-auc:0.841434\n",
            "[192]\tvalidation_0-auc:0.867393\tvalidation_1-auc:0.841442\n",
            "[193]\tvalidation_0-auc:0.867493\tvalidation_1-auc:0.841402\n",
            "[194]\tvalidation_0-auc:0.867554\tvalidation_1-auc:0.841418\n",
            "[195]\tvalidation_0-auc:0.867612\tvalidation_1-auc:0.841306\n",
            "[196]\tvalidation_0-auc:0.867653\tvalidation_1-auc:0.841299\n",
            "[197]\tvalidation_0-auc:0.867884\tvalidation_1-auc:0.841215\n",
            "[198]\tvalidation_0-auc:0.86792\tvalidation_1-auc:0.841233\n",
            "[199]\tvalidation_0-auc:0.868009\tvalidation_1-auc:0.841232\n",
            "[200]\tvalidation_0-auc:0.868041\tvalidation_1-auc:0.841281\n",
            "[201]\tvalidation_0-auc:0.868068\tvalidation_1-auc:0.841247\n",
            "[202]\tvalidation_0-auc:0.868219\tvalidation_1-auc:0.841184\n",
            "[203]\tvalidation_0-auc:0.868387\tvalidation_1-auc:0.841062\n",
            "[204]\tvalidation_0-auc:0.868541\tvalidation_1-auc:0.841111\n",
            "[205]\tvalidation_0-auc:0.868656\tvalidation_1-auc:0.84118\n",
            "[206]\tvalidation_0-auc:0.86874\tvalidation_1-auc:0.8411\n",
            "[207]\tvalidation_0-auc:0.86877\tvalidation_1-auc:0.841171\n",
            "[208]\tvalidation_0-auc:0.869001\tvalidation_1-auc:0.841108\n",
            "[209]\tvalidation_0-auc:0.869076\tvalidation_1-auc:0.841072\n",
            "[210]\tvalidation_0-auc:0.869226\tvalidation_1-auc:0.841046\n",
            "[211]\tvalidation_0-auc:0.869248\tvalidation_1-auc:0.841028\n",
            "[212]\tvalidation_0-auc:0.86931\tvalidation_1-auc:0.840946\n",
            "[213]\tvalidation_0-auc:0.869368\tvalidation_1-auc:0.84097\n",
            "[214]\tvalidation_0-auc:0.869392\tvalidation_1-auc:0.840956\n",
            "[215]\tvalidation_0-auc:0.869424\tvalidation_1-auc:0.840972\n",
            "[216]\tvalidation_0-auc:0.869623\tvalidation_1-auc:0.841031\n",
            "[217]\tvalidation_0-auc:0.869782\tvalidation_1-auc:0.841065\n",
            "[218]\tvalidation_0-auc:0.869946\tvalidation_1-auc:0.841163\n",
            "[219]\tvalidation_0-auc:0.870121\tvalidation_1-auc:0.841116\n",
            "[220]\tvalidation_0-auc:0.870264\tvalidation_1-auc:0.84101\n",
            "[221]\tvalidation_0-auc:0.87038\tvalidation_1-auc:0.840953\n",
            "[222]\tvalidation_0-auc:0.870521\tvalidation_1-auc:0.841005\n",
            "[223]\tvalidation_0-auc:0.870696\tvalidation_1-auc:0.8411\n",
            "[224]\tvalidation_0-auc:0.870835\tvalidation_1-auc:0.841151\n",
            "[225]\tvalidation_0-auc:0.870946\tvalidation_1-auc:0.841051\n",
            "[226]\tvalidation_0-auc:0.870993\tvalidation_1-auc:0.841012\n",
            "[227]\tvalidation_0-auc:0.871048\tvalidation_1-auc:0.841054\n",
            "[228]\tvalidation_0-auc:0.871088\tvalidation_1-auc:0.841005\n",
            "[229]\tvalidation_0-auc:0.871115\tvalidation_1-auc:0.84093\n",
            "[230]\tvalidation_0-auc:0.871159\tvalidation_1-auc:0.840939\n",
            "[231]\tvalidation_0-auc:0.871225\tvalidation_1-auc:0.840889\n",
            "[232]\tvalidation_0-auc:0.871284\tvalidation_1-auc:0.840894\n",
            "[233]\tvalidation_0-auc:0.871308\tvalidation_1-auc:0.840923\n",
            "[234]\tvalidation_0-auc:0.871376\tvalidation_1-auc:0.841058\n",
            "[235]\tvalidation_0-auc:0.871439\tvalidation_1-auc:0.841035\n",
            "[236]\tvalidation_0-auc:0.871638\tvalidation_1-auc:0.841187\n",
            "[237]\tvalidation_0-auc:0.871762\tvalidation_1-auc:0.841209\n",
            "[238]\tvalidation_0-auc:0.87184\tvalidation_1-auc:0.841378\n",
            "[239]\tvalidation_0-auc:0.871884\tvalidation_1-auc:0.841406\n",
            "[240]\tvalidation_0-auc:0.871987\tvalidation_1-auc:0.841472\n",
            "[241]\tvalidation_0-auc:0.872169\tvalidation_1-auc:0.841411\n",
            "[242]\tvalidation_0-auc:0.872259\tvalidation_1-auc:0.841359\n",
            "[243]\tvalidation_0-auc:0.872465\tvalidation_1-auc:0.841397\n",
            "[244]\tvalidation_0-auc:0.872518\tvalidation_1-auc:0.84136\n",
            "[245]\tvalidation_0-auc:0.872531\tvalidation_1-auc:0.841404\n",
            "[246]\tvalidation_0-auc:0.872555\tvalidation_1-auc:0.841325\n",
            "[247]\tvalidation_0-auc:0.872693\tvalidation_1-auc:0.841303\n",
            "[248]\tvalidation_0-auc:0.872905\tvalidation_1-auc:0.841331\n",
            "[249]\tvalidation_0-auc:0.872917\tvalidation_1-auc:0.841334\n",
            "[250]\tvalidation_0-auc:0.872945\tvalidation_1-auc:0.841375\n",
            "[251]\tvalidation_0-auc:0.873042\tvalidation_1-auc:0.841281\n",
            "[252]\tvalidation_0-auc:0.873125\tvalidation_1-auc:0.841266\n",
            "[253]\tvalidation_0-auc:0.87328\tvalidation_1-auc:0.841185\n",
            "[254]\tvalidation_0-auc:0.873296\tvalidation_1-auc:0.841173\n",
            "[255]\tvalidation_0-auc:0.87335\tvalidation_1-auc:0.841161\n",
            "[256]\tvalidation_0-auc:0.873377\tvalidation_1-auc:0.841136\n",
            "[257]\tvalidation_0-auc:0.873481\tvalidation_1-auc:0.841035\n",
            "[258]\tvalidation_0-auc:0.873558\tvalidation_1-auc:0.840996\n",
            "[259]\tvalidation_0-auc:0.873674\tvalidation_1-auc:0.840999\n",
            "[260]\tvalidation_0-auc:0.873779\tvalidation_1-auc:0.841058\n",
            "[261]\tvalidation_0-auc:0.874002\tvalidation_1-auc:0.841059\n",
            "[262]\tvalidation_0-auc:0.874125\tvalidation_1-auc:0.841093\n",
            "[263]\tvalidation_0-auc:0.874144\tvalidation_1-auc:0.841091\n",
            "[264]\tvalidation_0-auc:0.87417\tvalidation_1-auc:0.841116\n",
            "[265]\tvalidation_0-auc:0.874196\tvalidation_1-auc:0.841127\n",
            "[266]\tvalidation_0-auc:0.874238\tvalidation_1-auc:0.841082\n",
            "[267]\tvalidation_0-auc:0.874271\tvalidation_1-auc:0.841138\n",
            "[268]\tvalidation_0-auc:0.874298\tvalidation_1-auc:0.841147\n",
            "[269]\tvalidation_0-auc:0.874343\tvalidation_1-auc:0.841167\n",
            "[270]\tvalidation_0-auc:0.874417\tvalidation_1-auc:0.841146\n",
            "[271]\tvalidation_0-auc:0.87444\tvalidation_1-auc:0.841165\n",
            "[272]\tvalidation_0-auc:0.874479\tvalidation_1-auc:0.841174\n",
            "[273]\tvalidation_0-auc:0.874482\tvalidation_1-auc:0.841185\n",
            "[274]\tvalidation_0-auc:0.874647\tvalidation_1-auc:0.841277\n",
            "[275]\tvalidation_0-auc:0.8747\tvalidation_1-auc:0.841295\n",
            "[276]\tvalidation_0-auc:0.874743\tvalidation_1-auc:0.841319\n",
            "[277]\tvalidation_0-auc:0.874795\tvalidation_1-auc:0.841353\n",
            "[278]\tvalidation_0-auc:0.874858\tvalidation_1-auc:0.841289\n",
            "Stopping. Best iteration:\n",
            "[178]\tvalidation_0-auc:0.866004\tvalidation_1-auc:0.841863\n",
            "\n"
          ],
          "name": "stdout"
        },
        {
          "output_type": "execute_result",
          "data": {
            "text/plain": [
              "<matplotlib.axes._subplots.AxesSubplot at 0x7f7a4ca42908>"
            ]
          },
          "metadata": {
            "tags": []
          },
          "execution_count": 122
        },
        {
          "output_type": "display_data",
          "data": {
            "image/png": "[encoded data removed]",
            "text/plain": [
              "<Figure size 720x576 with 1 Axes>"
            ]
          },
          "metadata": {
            "tags": [],
            "needs_background": "light"
          }
        }
      ]
    },
    {
      "cell_type": "code",
      "metadata": {
        "id": "Eogw-K5T_dBv",
        "outputId": "9e3f9a7a-d9b3-4141-e639-200c9cf4b3cb",
        "colab": {
          "base_uri": "https://localhost:8080/",
          "height": 35
        }
      },
      "source": [
        "# select important features from model\n",
        "from sklearn.feature_selection import SelectFromModel\n",
        "\n",
        "fs = SelectFromModel(xgb_clf, prefit = True)\n",
        "X_train = fs.transform(X_train)\n",
        "X_test = fs.transform(X_test)\n",
        "test_q = fs.transform(test_q)\n",
        "print(xgb_clf.best_score, X_train.shape, X_test.shape, test_q.shape)"
      ],
      "execution_count": 123,
      "outputs": [
        {
          "output_type": "stream",
          "text": [
            "0.841863 (60816, 78) (15204, 78) (75818, 78)\n"
          ],
          "name": "stdout"
        }
      ]
    },
    {
      "cell_type": "markdown",
      "metadata": {
        "id": "o_XswQBRaS4U"
      },
      "source": [
        "## #3. 학습 수행 (xgboost)\n",
        "#### 1) Hyperparameter 최적화"
      ]
    },
    {
      "cell_type": "code",
      "metadata": {
        "id": "CoqC3Lq3NswR"
      },
      "source": [
        "from sklearn.model_selection import GridSearchCV\n",
        "\n",
        "xgb_clf = XGBClassifier(n_estimators=100)\n",
        "params = {'max_depth':[5,7],'colsample_bytree':[0.5,0.85], 'learning_rate':[0.02,0.03]}\n",
        "gridcv = GridSearchCV(xgb_clf, param_grid=params)\n",
        "gridcv.fit(X_train, y_train, early_stopping_rounds=30, eval_metric=\"auc\", eval_set=[(X_train, y_train), (X_test, y_test)])\n",
        "xgb_roc_score = roc_auc_score(y_test, gridcv.predict_proba(X_test)[:,1], average='macro')\n",
        "print(xgb_roc_score, gridcv.best_params_)"
      ],
      "execution_count": null,
      "outputs": []
    },
    {
      "cell_type": "markdown",
      "metadata": {
        "id": "i9OH2b50TjBx"
      },
      "source": [
        "#### 1) [xgboost] 학습"
      ]
    },
    {
      "cell_type": "code",
      "metadata": {
        "id": "tk1mfjDLqI3_"
      },
      "source": [
        "xgb_clf = XGBClassifier(n_estimators=1000, random_state=156, learning_rate=0.03, max_depth=7, min_child_weight=1, colsample_bytree=0.5, reg_alpha=0.03, nthread=4, subsample=0.9, seed=4242)\n",
        "xgb_clf.fit(X_train, y_train, early_stopping_rounds=20, eval_metric=\"auc\", eval_set=[(X_train, y_train), (X_test, y_test)])\n",
        "xgb_roc_score = roc_auc_score(y_test, xgb_clf.predict_proba(X_test)[:,1], average='macro')\n",
        "xgb_roc_score"
      ],
      "execution_count": null,
      "outputs": []
    },
    {
      "cell_type": "markdown",
      "metadata": {
        "id": "DUBYQVINaoTd"
      },
      "source": [
        "#### 2) [xgboost] submission 결과 추출"
      ]
    },
    {
      "cell_type": "code",
      "metadata": {
        "id": "zv-s2sdTnuSy"
      },
      "source": [
        "probs = xgb_clf.predict_proba(test_q)\n",
        "submission = pd.DataFrame({\"ID\":test_id, \"TARGET\":probs[:,1]})\n",
        "submission.to_csv(\"/content/drive/My Drive/santander/submission_201011_xgboost_1.csv\", index=False)"
      ],
      "execution_count": null,
      "outputs": []
    },
    {
      "cell_type": "markdown",
      "metadata": {
        "id": "lkk8YAlmh759"
      },
      "source": [
        "## #4. PCA"
      ]
    },
    {
      "cell_type": "code",
      "metadata": {
        "id": "cVN7vtPOh7H2"
      },
      "source": [
        "from sklearn.preprocessing import normalize\n",
        "from sklearn.decomposition import PCA\n",
        "\n",
        "pca = PCA(n_components=2)"
      ],
      "execution_count": 17,
      "outputs": []
    },
    {
      "cell_type": "code",
      "metadata": {
        "id": "nFrGA3z6h7NZ"
      },
      "source": [
        "X_train_nor = normalize(X_train, axis=0)\n",
        "#X_test_nor = normalize(X_test, axis=0)\n",
        "#test_q_nor = normalize(test_q, axis=0)\n",
        "\n",
        "X_train_pca = pca.fit_transform(X_train_nor)\n",
        "#X_test_pca = pca.fit_transform(X_test_nor)\n",
        "#test_q_pca = pca.fit_transform(test_q_nor)"
      ],
      "execution_count": 18,
      "outputs": []
    },
    {
      "cell_type": "code",
      "metadata": {
        "id": "0y6H9JSkh4DO",
        "outputId": "def45caa-4c4d-4b82-d8d0-108d07027cec",
        "colab": {
          "base_uri": "https://localhost:8080/",
          "height": 464
        }
      },
      "source": [
        "classes = np.sort(np.unique(y_train))\n",
        "labels = [\"Satisfied customer\", \"Unsatisfied customer\"]\n",
        "\n",
        "fig = plt.figure(figsize=(10,7))\n",
        "ax = fig.add_subplot(1,1,1)\n",
        "colors = [(0.0, 0.63, 0.69), 'black']\n",
        "markers = [\"o\", \"D\"]\n",
        "for class_ix, marker, color, label in zip(classes, markers, colors, labels):\n",
        "  ax.scatter(X_train_pca[np.where(y_train==class_ix), 0],\n",
        "             X_train_pca[np.where(y_train==class_ix), 1],\n",
        "             marker=marker, color=color, edgecolor = \"whitesmoke\", linewidth=1,\n",
        "             alpha=0.9, label=label)\n",
        "  ax.legend(loc='best')\n",
        "plt.title(\"Scatter plot of the training data examples projected on the \"\n",
        "        \"2 first principal components\")\n",
        "plt.xlabel(\"Principal axis 1 - Explains %.1f %% of the variance\" % (\n",
        "    pca.explained_variance_ratio_[0] * 100.0))\n",
        "plt.ylabel(\"Principal axis 2 - Explains %.1f %% of the variance\" % (\n",
        "    pca.explained_variance_ratio_[1] * 100.0))\n",
        "plt.show()"
      ],
      "execution_count": 19,
      "outputs": [
        {
          "output_type": "display_data",
          "data": {
            "image/png": "[encoded data removed]",
            "text/plain": [
              "<Figure size 720x504 with 1 Axes>"
            ]
          },
          "metadata": {
            "tags": [],
            "needs_background": "light"
          }
        }
      ]
    },
    {
      "cell_type": "code",
      "metadata": {
        "id": "id0uK1eNkbyI",
        "outputId": "fee5ab87-ac56-49e2-d8e7-4d4fcabf67ee",
        "colab": {
          "base_uri": "https://localhost:8080/",
          "height": 35
        }
      },
      "source": [
        "print(X_train_pca.shape, X_test_pca.shape, test_q_pca.shape)"
      ],
      "execution_count": null,
      "outputs": [
        {
          "output_type": "stream",
          "text": [
            "(60816, 5) (15204, 5) (75818, 5)\n"
          ],
          "name": "stdout"
        }
      ]
    },
    {
      "cell_type": "code",
      "metadata": {
        "id": "KWjDgyK4k9Ld",
        "outputId": "95b5c090-2991-4ce4-d46c-46e0279a85bf",
        "colab": {
          "base_uri": "https://localhost:8080/",
          "height": 557
        }
      },
      "source": [
        "xgb_clf = XGBClassifier(n_estimators=1000, random_state=156, learning_rate=0.03, max_depth=7, min_child_weight=1, colsample_bytree=0.5, reg_alpha=0.03, nthread=4, subsample=0.9, seed=4242)\n",
        "xgb_clf.fit(X_train_pca, y_train, early_stopping_rounds=20, eval_metric=\"auc\", eval_set=[(X_train_pca, y_train), (X_test_pca, y_test)])\n",
        "xgb_roc_score = roc_auc_score(y_test, xgb_clf.predict_proba(X_test_pca)[:,1], average='macro')\n",
        "xgb_roc_score"
      ],
      "execution_count": null,
      "outputs": [
        {
          "output_type": "stream",
          "text": [
            "[0]\tvalidation_0-auc:0.758206\tvalidation_1-auc:0.516401\n",
            "Multiple eval metrics have been passed: 'validation_1-auc' will be used for early stopping.\n",
            "\n",
            "Will train until validation_1-auc hasn't improved in 20 rounds.\n",
            "[1]\tvalidation_0-auc:0.773569\tvalidation_1-auc:0.518825\n",
            "[2]\tvalidation_0-auc:0.772644\tvalidation_1-auc:0.518964\n",
            "[3]\tvalidation_0-auc:0.778669\tvalidation_1-auc:0.393478\n",
            "[4]\tvalidation_0-auc:0.780133\tvalidation_1-auc:0.395063\n",
            "[5]\tvalidation_0-auc:0.781354\tvalidation_1-auc:0.396704\n",
            "[6]\tvalidation_0-auc:0.783372\tvalidation_1-auc:0.372845\n",
            "[7]\tvalidation_0-auc:0.784254\tvalidation_1-auc:0.372268\n",
            "[8]\tvalidation_0-auc:0.786532\tvalidation_1-auc:0.397709\n",
            "[9]\tvalidation_0-auc:0.791055\tvalidation_1-auc:0.409337\n",
            "[10]\tvalidation_0-auc:0.792612\tvalidation_1-auc:0.399732\n",
            "[11]\tvalidation_0-auc:0.794416\tvalidation_1-auc:0.405086\n",
            "[12]\tvalidation_0-auc:0.795697\tvalidation_1-auc:0.409827\n",
            "[13]\tvalidation_0-auc:0.797029\tvalidation_1-auc:0.413208\n",
            "[14]\tvalidation_0-auc:0.797529\tvalidation_1-auc:0.401723\n",
            "[15]\tvalidation_0-auc:0.797234\tvalidation_1-auc:0.416491\n",
            "[16]\tvalidation_0-auc:0.799003\tvalidation_1-auc:0.418908\n",
            "[17]\tvalidation_0-auc:0.800295\tvalidation_1-auc:0.435989\n",
            "[18]\tvalidation_0-auc:0.802472\tvalidation_1-auc:0.432246\n",
            "[19]\tvalidation_0-auc:0.804827\tvalidation_1-auc:0.428443\n",
            "[20]\tvalidation_0-auc:0.804954\tvalidation_1-auc:0.423244\n",
            "[21]\tvalidation_0-auc:0.804756\tvalidation_1-auc:0.4198\n",
            "[22]\tvalidation_0-auc:0.806006\tvalidation_1-auc:0.417205\n",
            "Stopping. Best iteration:\n",
            "[2]\tvalidation_0-auc:0.772644\tvalidation_1-auc:0.518964\n",
            "\n"
          ],
          "name": "stdout"
        },
        {
          "output_type": "execute_result",
          "data": {
            "text/plain": [
              "0.5189641435125545"
            ]
          },
          "metadata": {
            "tags": []
          },
          "execution_count": 119
        }
      ]
    },
    {
      "cell_type": "markdown",
      "metadata": {
        "id": "Oet3c-eZWUCC"
      },
      "source": [
        "## #5. 학습 수행 (LightGBM)\n",
        "#### 1) Hyperparameter 최적화"
      ]
    },
    {
      "cell_type": "code",
      "metadata": {
        "id": "8gdbGDrCvVOv"
      },
      "source": [
        "from lightgbm import LGBMClassifier\n",
        "from sklearn.model_selection import GridSearchCV\n",
        "\n",
        "lgbm_clf = LGBMClassifier(n_estimators=200)\n",
        "\n",
        "params = {'num_leaves':[32,64],\n",
        "          'max_depth':[128,160],\n",
        "          'min_child_samples':[60,100],\n",
        "          'subsample':[0.8,1],\n",
        "          'boost_from_average':[False]}"
      ],
      "execution_count": null,
      "outputs": []
    },
    {
      "cell_type": "code",
      "metadata": {
        "id": "HSZPNdjaXX-0"
      },
      "source": [
        "gridcv = GridSearchCV(lgbm_clf, param_grid=params)\n",
        "gridcv.fit(X_train, y_train, early_stopping_rounds=30, eval_metric=\"auc\", eval_set=[(X_train, y_train), (X_test, y_test)])\n",
        "\n",
        "print(gridcv.best_params_)\n",
        "lgbm_roc_score = roc_auc_score(y_test, gridcv.predict_proba(X_test)[:,1], average='macro')\n",
        "print(lgbm_roc_score)"
      ],
      "execution_count": null,
      "outputs": []
    },
    {
      "cell_type": "code",
      "metadata": {
        "id": "q82qGB8xWOc8",
        "outputId": "1a7444e0-b6a4-4749-bfb4-88a184b1de30",
        "colab": {
          "base_uri": "https://localhost:8080/",
          "height": 53
        }
      },
      "source": [
        "print(gridcv.best_params_)\n",
        "lgbm_roc_score = roc_auc_score(y_test, gridcv.predict_proba(X_test)[:,1], average='macro')\n",
        "print(lgbm_roc_score)"
      ],
      "execution_count": null,
      "outputs": [
        {
          "output_type": "stream",
          "text": [
            "{'max_depth': 128, 'min_child_samples': 60, 'num_leaves': 32, 'subsample': 0.8}\n",
            "0.8412062186464128\n"
          ],
          "name": "stdout"
        }
      ]
    },
    {
      "cell_type": "code",
      "metadata": {
        "id": "1oj_6MLSX9U5",
        "outputId": "f2d62fee-247e-4fb0-8335-4be7c2dc272c",
        "colab": {
          "base_uri": "https://localhost:8080/",
          "height": 1000
        }
      },
      "source": [
        "lgbm_clf = LGBMClassifier(n_estimators=1000, num_leaves=32, subsample=0.8, min_child_samples=60, max_depth=128, boost_from_average=False)\n",
        "evals = [(X_test, y_test)]\n",
        "lgbm_clf.fit(X_train, y_train, early_stopping_rounds=100, eval_metric=\"auc\", eval_set=evals, verbose=True)\n",
        "lgbm_roc_score = roc_auc_score(y_test, lgbm_clf.predict_proba(X_test)[:,1], average='macro')\n",
        "print(lgbm_roc_score)"
      ],
      "execution_count": null,
      "outputs": [
        {
          "output_type": "stream",
          "text": [
            "[1]\tvalid_0's auc: 0.81744\tvalid_0's binary_logloss: 0.165128\n",
            "Training until validation scores don't improve for 100 rounds.\n",
            "[2]\tvalid_0's auc: 0.820421\tvalid_0's binary_logloss: 0.159978\n",
            "[3]\tvalid_0's auc: 0.827206\tvalid_0's binary_logloss: 0.156423\n",
            "[4]\tvalid_0's auc: 0.8329\tvalid_0's binary_logloss: 0.153502\n",
            "[5]\tvalid_0's auc: 0.836038\tvalid_0's binary_logloss: 0.151221\n",
            "[6]\tvalid_0's auc: 0.837409\tvalid_0's binary_logloss: 0.149316\n",
            "[7]\tvalid_0's auc: 0.838612\tvalid_0's binary_logloss: 0.147774\n",
            "[8]\tvalid_0's auc: 0.84006\tvalid_0's binary_logloss: 0.146429\n",
            "[9]\tvalid_0's auc: 0.840087\tvalid_0's binary_logloss: 0.145418\n",
            "[10]\tvalid_0's auc: 0.840505\tvalid_0's binary_logloss: 0.14451\n",
            "[11]\tvalid_0's auc: 0.841206\tvalid_0's binary_logloss: 0.143585\n",
            "[12]\tvalid_0's auc: 0.840401\tvalid_0's binary_logloss: 0.143032\n",
            "[13]\tvalid_0's auc: 0.840386\tvalid_0's binary_logloss: 0.142428\n",
            "[14]\tvalid_0's auc: 0.839586\tvalid_0's binary_logloss: 0.142059\n",
            "[15]\tvalid_0's auc: 0.839195\tvalid_0's binary_logloss: 0.14175\n",
            "[16]\tvalid_0's auc: 0.83854\tvalid_0's binary_logloss: 0.141436\n",
            "[17]\tvalid_0's auc: 0.838176\tvalid_0's binary_logloss: 0.14119\n",
            "[18]\tvalid_0's auc: 0.838161\tvalid_0's binary_logloss: 0.140996\n",
            "[19]\tvalid_0's auc: 0.83871\tvalid_0's binary_logloss: 0.140782\n",
            "[20]\tvalid_0's auc: 0.838427\tvalid_0's binary_logloss: 0.140569\n",
            "[21]\tvalid_0's auc: 0.83862\tvalid_0's binary_logloss: 0.140372\n",
            "[22]\tvalid_0's auc: 0.838692\tvalid_0's binary_logloss: 0.140264\n",
            "[23]\tvalid_0's auc: 0.838819\tvalid_0's binary_logloss: 0.140096\n",
            "[24]\tvalid_0's auc: 0.838432\tvalid_0's binary_logloss: 0.140037\n",
            "[25]\tvalid_0's auc: 0.838501\tvalid_0's binary_logloss: 0.139958\n",
            "[26]\tvalid_0's auc: 0.83869\tvalid_0's binary_logloss: 0.139865\n",
            "[27]\tvalid_0's auc: 0.839113\tvalid_0's binary_logloss: 0.139734\n",
            "[28]\tvalid_0's auc: 0.839037\tvalid_0's binary_logloss: 0.139714\n",
            "[29]\tvalid_0's auc: 0.838764\tvalid_0's binary_logloss: 0.139702\n",
            "[30]\tvalid_0's auc: 0.83865\tvalid_0's binary_logloss: 0.13972\n",
            "[31]\tvalid_0's auc: 0.838391\tvalid_0's binary_logloss: 0.139723\n",
            "[32]\tvalid_0's auc: 0.838239\tvalid_0's binary_logloss: 0.139659\n",
            "[33]\tvalid_0's auc: 0.838623\tvalid_0's binary_logloss: 0.139602\n",
            "[34]\tvalid_0's auc: 0.838765\tvalid_0's binary_logloss: 0.139574\n",
            "[35]\tvalid_0's auc: 0.838555\tvalid_0's binary_logloss: 0.139585\n",
            "[36]\tvalid_0's auc: 0.838797\tvalid_0's binary_logloss: 0.139479\n",
            "[37]\tvalid_0's auc: 0.838639\tvalid_0's binary_logloss: 0.139486\n",
            "[38]\tvalid_0's auc: 0.838532\tvalid_0's binary_logloss: 0.139524\n",
            "[39]\tvalid_0's auc: 0.838626\tvalid_0's binary_logloss: 0.139515\n",
            "[40]\tvalid_0's auc: 0.838079\tvalid_0's binary_logloss: 0.139572\n",
            "[41]\tvalid_0's auc: 0.837717\tvalid_0's binary_logloss: 0.139647\n",
            "[42]\tvalid_0's auc: 0.837662\tvalid_0's binary_logloss: 0.139633\n",
            "[43]\tvalid_0's auc: 0.838013\tvalid_0's binary_logloss: 0.139594\n",
            "[44]\tvalid_0's auc: 0.838056\tvalid_0's binary_logloss: 0.139593\n",
            "[45]\tvalid_0's auc: 0.837963\tvalid_0's binary_logloss: 0.139628\n",
            "[46]\tvalid_0's auc: 0.838334\tvalid_0's binary_logloss: 0.139508\n",
            "[47]\tvalid_0's auc: 0.837896\tvalid_0's binary_logloss: 0.139551\n",
            "[48]\tvalid_0's auc: 0.837901\tvalid_0's binary_logloss: 0.139575\n",
            "[49]\tvalid_0's auc: 0.837511\tvalid_0's binary_logloss: 0.1396\n",
            "[50]\tvalid_0's auc: 0.837673\tvalid_0's binary_logloss: 0.139556\n",
            "[51]\tvalid_0's auc: 0.837783\tvalid_0's binary_logloss: 0.139539\n",
            "[52]\tvalid_0's auc: 0.837661\tvalid_0's binary_logloss: 0.139617\n",
            "[53]\tvalid_0's auc: 0.83757\tvalid_0's binary_logloss: 0.139653\n",
            "[54]\tvalid_0's auc: 0.837407\tvalid_0's binary_logloss: 0.139701\n",
            "[55]\tvalid_0's auc: 0.83747\tvalid_0's binary_logloss: 0.139678\n",
            "[56]\tvalid_0's auc: 0.837331\tvalid_0's binary_logloss: 0.139679\n",
            "[57]\tvalid_0's auc: 0.837353\tvalid_0's binary_logloss: 0.139692\n",
            "[58]\tvalid_0's auc: 0.836902\tvalid_0's binary_logloss: 0.139768\n",
            "[59]\tvalid_0's auc: 0.836751\tvalid_0's binary_logloss: 0.139799\n",
            "[60]\tvalid_0's auc: 0.83712\tvalid_0's binary_logloss: 0.139734\n",
            "[61]\tvalid_0's auc: 0.836888\tvalid_0's binary_logloss: 0.139777\n",
            "[62]\tvalid_0's auc: 0.836824\tvalid_0's binary_logloss: 0.139793\n",
            "[63]\tvalid_0's auc: 0.836538\tvalid_0's binary_logloss: 0.139881\n",
            "[64]\tvalid_0's auc: 0.836358\tvalid_0's binary_logloss: 0.13992\n",
            "[65]\tvalid_0's auc: 0.83642\tvalid_0's binary_logloss: 0.139903\n",
            "[66]\tvalid_0's auc: 0.836526\tvalid_0's binary_logloss: 0.139895\n",
            "[67]\tvalid_0's auc: 0.836355\tvalid_0's binary_logloss: 0.139941\n",
            "[68]\tvalid_0's auc: 0.836678\tvalid_0's binary_logloss: 0.139908\n",
            "[69]\tvalid_0's auc: 0.836562\tvalid_0's binary_logloss: 0.139954\n",
            "[70]\tvalid_0's auc: 0.836614\tvalid_0's binary_logloss: 0.139945\n",
            "[71]\tvalid_0's auc: 0.836606\tvalid_0's binary_logloss: 0.13994\n",
            "[72]\tvalid_0's auc: 0.836432\tvalid_0's binary_logloss: 0.139998\n",
            "[73]\tvalid_0's auc: 0.836454\tvalid_0's binary_logloss: 0.13995\n",
            "[74]\tvalid_0's auc: 0.836328\tvalid_0's binary_logloss: 0.139997\n",
            "[75]\tvalid_0's auc: 0.836504\tvalid_0's binary_logloss: 0.139965\n",
            "[76]\tvalid_0's auc: 0.836391\tvalid_0's binary_logloss: 0.139978\n",
            "[77]\tvalid_0's auc: 0.836226\tvalid_0's binary_logloss: 0.140018\n",
            "[78]\tvalid_0's auc: 0.835998\tvalid_0's binary_logloss: 0.140075\n",
            "[79]\tvalid_0's auc: 0.835908\tvalid_0's binary_logloss: 0.140092\n",
            "[80]\tvalid_0's auc: 0.836025\tvalid_0's binary_logloss: 0.140075\n",
            "[81]\tvalid_0's auc: 0.835929\tvalid_0's binary_logloss: 0.14012\n",
            "[82]\tvalid_0's auc: 0.835912\tvalid_0's binary_logloss: 0.140135\n",
            "[83]\tvalid_0's auc: 0.836144\tvalid_0's binary_logloss: 0.140099\n",
            "[84]\tvalid_0's auc: 0.835865\tvalid_0's binary_logloss: 0.140149\n",
            "[85]\tvalid_0's auc: 0.835819\tvalid_0's binary_logloss: 0.140155\n",
            "[86]\tvalid_0's auc: 0.835967\tvalid_0's binary_logloss: 0.140118\n",
            "[87]\tvalid_0's auc: 0.835879\tvalid_0's binary_logloss: 0.140163\n",
            "[88]\tvalid_0's auc: 0.835981\tvalid_0's binary_logloss: 0.140184\n",
            "[89]\tvalid_0's auc: 0.83612\tvalid_0's binary_logloss: 0.14018\n",
            "[90]\tvalid_0's auc: 0.83614\tvalid_0's binary_logloss: 0.140162\n",
            "[91]\tvalid_0's auc: 0.836292\tvalid_0's binary_logloss: 0.140167\n",
            "[92]\tvalid_0's auc: 0.836189\tvalid_0's binary_logloss: 0.140202\n",
            "[93]\tvalid_0's auc: 0.83606\tvalid_0's binary_logloss: 0.140235\n",
            "[94]\tvalid_0's auc: 0.835688\tvalid_0's binary_logloss: 0.14032\n",
            "[95]\tvalid_0's auc: 0.835971\tvalid_0's binary_logloss: 0.140285\n",
            "[96]\tvalid_0's auc: 0.83587\tvalid_0's binary_logloss: 0.140299\n",
            "[97]\tvalid_0's auc: 0.83586\tvalid_0's binary_logloss: 0.140315\n",
            "[98]\tvalid_0's auc: 0.835915\tvalid_0's binary_logloss: 0.140324\n",
            "[99]\tvalid_0's auc: 0.835908\tvalid_0's binary_logloss: 0.140324\n",
            "[100]\tvalid_0's auc: 0.835791\tvalid_0's binary_logloss: 0.1404\n",
            "[101]\tvalid_0's auc: 0.83582\tvalid_0's binary_logloss: 0.140401\n",
            "[102]\tvalid_0's auc: 0.835781\tvalid_0's binary_logloss: 0.140432\n",
            "[103]\tvalid_0's auc: 0.835531\tvalid_0's binary_logloss: 0.140491\n",
            "[104]\tvalid_0's auc: 0.835501\tvalid_0's binary_logloss: 0.140523\n",
            "[105]\tvalid_0's auc: 0.835263\tvalid_0's binary_logloss: 0.140593\n",
            "[106]\tvalid_0's auc: 0.835267\tvalid_0's binary_logloss: 0.140575\n",
            "[107]\tvalid_0's auc: 0.835225\tvalid_0's binary_logloss: 0.140607\n",
            "[108]\tvalid_0's auc: 0.835158\tvalid_0's binary_logloss: 0.140634\n",
            "[109]\tvalid_0's auc: 0.83513\tvalid_0's binary_logloss: 0.140652\n",
            "[110]\tvalid_0's auc: 0.83533\tvalid_0's binary_logloss: 0.140644\n",
            "[111]\tvalid_0's auc: 0.835146\tvalid_0's binary_logloss: 0.140662\n",
            "Early stopping, best iteration is:\n",
            "[11]\tvalid_0's auc: 0.841206\tvalid_0's binary_logloss: 0.143585\n",
            "0.8412062186464128\n"
          ],
          "name": "stdout"
        }
      ]
    },
    {
      "cell_type": "code",
      "metadata": {
        "id": "8GhCcz3BYr36"
      },
      "source": [
        "probs = lgbm_clf.predict_proba(test_df)\n",
        "submission = pd.DataFrame({\"ID\":test_id, \"TARGET\":probs[:,1]})\n",
        "submission.to_csv(\"/content/drive/My Drive/santander/submission_201010_lgbm_1.csv\", index=False)"
      ],
      "execution_count": null,
      "outputs": []
    },
    {
      "cell_type": "code",
      "metadata": {
        "id": "JXqtUI94Y-qq",
        "outputId": "bfb24c71-9b67-48cc-9aae-a50eab01730c",
        "colab": {
          "base_uri": "https://localhost:8080/",
          "height": 204
        }
      },
      "source": [
        "submission.head()"
      ],
      "execution_count": null,
      "outputs": [
        {
          "output_type": "execute_result",
          "data": {
            "text/html": [
              "<div>\n",
              "<style scoped>\n",
              "    .dataframe tbody tr th:only-of-type {\n",
              "        vertical-align: middle;\n",
              "    }\n",
              "\n",
              "    .dataframe tbody tr th {\n",
              "        vertical-align: top;\n",
              "    }\n",
              "\n",
              "    .dataframe thead th {\n",
              "        text-align: right;\n",
              "    }\n",
              "</style>\n",
              "<table border=\"1\" class=\"dataframe\">\n",
              "  <thead>\n",
              "    <tr style=\"text-align: right;\">\n",
              "      <th></th>\n",
              "      <th>ID</th>\n",
              "      <th>TARGET</th>\n",
              "    </tr>\n",
              "  </thead>\n",
              "  <tbody>\n",
              "    <tr>\n",
              "      <th>0</th>\n",
              "      <td>2</td>\n",
              "      <td>0.032658</td>\n",
              "    </tr>\n",
              "    <tr>\n",
              "      <th>1</th>\n",
              "      <td>5</td>\n",
              "      <td>0.042919</td>\n",
              "    </tr>\n",
              "    <tr>\n",
              "      <th>2</th>\n",
              "      <td>6</td>\n",
              "      <td>0.015702</td>\n",
              "    </tr>\n",
              "    <tr>\n",
              "      <th>3</th>\n",
              "      <td>7</td>\n",
              "      <td>0.018131</td>\n",
              "    </tr>\n",
              "    <tr>\n",
              "      <th>4</th>\n",
              "      <td>9</td>\n",
              "      <td>0.015702</td>\n",
              "    </tr>\n",
              "  </tbody>\n",
              "</table>\n",
              "</div>"
            ],
            "text/plain": [
              "   ID    TARGET\n",
              "0   2  0.032658\n",
              "1   5  0.042919\n",
              "2   6  0.015702\n",
              "3   7  0.018131\n",
              "4   9  0.015702"
            ]
          },
          "metadata": {
            "tags": []
          },
          "execution_count": 53
        }
      ]
    },
    {
      "cell_type": "code",
      "metadata": {
        "id": "aQgDxDNgZAI9"
      },
      "source": [
        ""
      ],
      "execution_count": null,
      "outputs": []
    }
  ]
}